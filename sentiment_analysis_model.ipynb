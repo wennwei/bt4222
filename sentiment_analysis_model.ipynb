{
 "cells": [
  {
   "cell_type": "code",
   "execution_count": 64,
   "metadata": {},
   "outputs": [],
   "source": [
    "# Import Libraries\n",
    "import pandas as pd\n",
    "import numpy as np\n",
    "import torch\n",
    "from sklearn.model_selection import train_test_split\n",
    "from datasets import Dataset\n",
    "import tensorflow as tf\n",
    "import warnings\n",
    "\n",
    "\n",
    "from transformers import AutoTokenizer\n",
    "from datasets import Dataset, DatasetDict\n",
    "from torch.utils.data import DataLoader\n",
    "from transformers import AutoModelForMaskedLM\n",
    "from torch import nn\n",
    "from torch.nn import CrossEntropyLoss\n",
    "from torch.optim import AdamW\n",
    "from transformers import get_scheduler\n",
    "import evaluate\n",
    "from tqdm.auto import tqdm\n",
    "from sklearn.metrics import (accuracy_score, precision_score, recall_score, \n",
    "                             f1_score, roc_auc_score, \n",
    "                             confusion_matrix, classification_report)\n",
    "import matplotlib.pyplot as plt\n",
    "import seaborn as sns\n",
    "\n",
    "\n",
    "# Ignore Warnings\n",
    "warnings.simplefilter(action='ignore', category=FutureWarning)"
   ]
  },
  {
   "cell_type": "code",
   "execution_count": 65,
   "metadata": {},
   "outputs": [],
   "source": [
    "# Load the data\n",
    "df= pd.read_csv(\"cleaned data/cleaned_data.csv\",index_col=0)"
   ]
  },
  {
   "cell_type": "code",
   "execution_count": 66,
   "metadata": {},
   "outputs": [
    {
     "name": "stdout",
     "output_type": "stream",
     "text": [
      "GPU not available, CPU used\n"
     ]
    }
   ],
   "source": [
    "# Check cuda status\n",
    "is_cuda = torch.cuda.is_available()\n",
    "\n",
    "# If we have a GPU available, we'll set our device to GPU. We'll use this device variable later in our code.\n",
    "if is_cuda:\n",
    "    device = torch.device(\"cuda\")\n",
    "    print(\"GPU is available\")\n",
    "else:\n",
    "    device = torch.device(\"cpu\")\n",
    "    print(\"GPU not available, CPU used\")"
   ]
  },
  {
   "cell_type": "code",
   "execution_count": 67,
   "metadata": {},
   "outputs": [],
   "source": [
    "# Set seeds for reproducibility\n",
    "seed = 42\n",
    "np.random.seed(seed)\n",
    "torch.manual_seed(seed)\n",
    "                  \n",
    "if torch.cuda.is_available():\n",
    "    torch.cuda.manual_seed(seed)\n",
    "    torch.cuda.manual_seed_all(seed)\n",
    "    torch.backends.cudnn.deterministic = True\n",
    "    torch.backends.cudnn.benchmark = False"
   ]
  },
  {
   "cell_type": "markdown",
   "metadata": {},
   "source": [
    "### Check for missing descriptions"
   ]
  },
  {
   "cell_type": "code",
   "execution_count": 68,
   "metadata": {},
   "outputs": [
    {
     "name": "stdout",
     "output_type": "stream",
     "text": [
      "Number of rows with NaN in 'description': 7257\n",
      "Number of rows with NaN 'description' and account_type 'human': 2911\n",
      "Number of rows with NaN 'description' and account_type 'bot': 4346\n"
     ]
    }
   ],
   "source": [
    "missing_descriptions = df['description'].isna().sum()\n",
    "print(f\"Number of rows with NaN in 'description': {missing_descriptions}\")\n",
    "\n",
    "# Count rows where 'description' is NaN and 'label' is 'human'\n",
    "num_human = df[df['description'].isna() & (df['account_type'] == 'human')].shape[0]\n",
    "\n",
    "# Count rows where 'description' is NaN and 'label' is 'bot'\n",
    "num_bot = df[df['description'].isna() & (df['account_type'] == 'bot')].shape[0]\n",
    "\n",
    "# Print the results\n",
    "print(f\"Number of rows with NaN 'description' and account_type 'human': {num_human}\")\n",
    "print(f\"Number of rows with NaN 'description' and account_type 'bot': {num_bot}\")"
   ]
  },
  {
   "cell_type": "markdown",
   "metadata": {},
   "source": [
    "### Replace missing descriptions with empty string"
   ]
  },
  {
   "cell_type": "code",
   "execution_count": 69,
   "metadata": {},
   "outputs": [
    {
     "name": "stdout",
     "output_type": "stream",
     "text": [
      "0\n"
     ]
    }
   ],
   "source": [
    "# Replace NaN values in 'description' with a placeholder string\n",
    "df['description'].fillna('unknown', inplace=True)\n",
    "print(df['description'].isna().sum())"
   ]
  },
  {
   "cell_type": "markdown",
   "metadata": {},
   "source": [
    "### Prepare Dataset"
   ]
  },
  {
   "cell_type": "code",
   "execution_count": 70,
   "metadata": {},
   "outputs": [],
   "source": [
    "# Convert account_type from categorical ('bot' and 'human') to 0 and 1\n",
    "df['account_type'] = df['account_type'].map({'bot': 0, 'human': 1})\n",
    "\n",
    "# Convert pandas DataFrame to HuggingFace dataset format\n",
    "dataset = Dataset.from_pandas(df[['description', 'account_type']].reset_index(drop=True))\n",
    "\n",
    "train_test_split = dataset.train_test_split(test_size=0.2, seed=42)"
   ]
  },
  {
   "cell_type": "markdown",
   "metadata": {},
   "source": [
    "### Tokenization"
   ]
  },
  {
   "cell_type": "code",
   "execution_count": 71,
   "metadata": {},
   "outputs": [
    {
     "name": "stderr",
     "output_type": "stream",
     "text": [
      "Map: 100%|██████████| 29950/29950 [00:03<00:00, 9382.80 examples/s] \n",
      "Map: 100%|██████████| 7488/7488 [00:00<00:00, 16643.36 examples/s]"
     ]
    },
    {
     "name": "stdout",
     "output_type": "stream",
     "text": [
      "DatasetDict({\n",
      "    train: Dataset({\n",
      "        features: ['labels', 'input_ids', 'token_type_ids', 'attention_mask'],\n",
      "        num_rows: 29950\n",
      "    })\n",
      "    test: Dataset({\n",
      "        features: ['labels', 'input_ids', 'token_type_ids', 'attention_mask'],\n",
      "        num_rows: 7488\n",
      "    })\n",
      "})\n"
     ]
    },
    {
     "name": "stderr",
     "output_type": "stream",
     "text": [
      "\n"
     ]
    }
   ],
   "source": [
    "tokenizer = AutoTokenizer.from_pretrained(\"bert-base-uncased\")\n",
    "\n",
    "# Tokenization function\n",
    "def tokenize_function(examples):\n",
    "    return tokenizer(examples[\"description\"], padding=\"max_length\", truncation=True, max_length=64)\n",
    "\n",
    "# Tokenize the training and testing datasets\n",
    "tokenized_train = train_test_split['train'].map(tokenize_function, batched=True)\n",
    "tokenized_test = train_test_split['test'].map(tokenize_function, batched=True)\n",
    "\n",
    "# Rename columns for consistency\n",
    "tokenized_train = tokenized_train.rename_column(\"account_type\", \"labels\")\n",
    "tokenized_test = tokenized_test.rename_column(\"account_type\", \"labels\")\n",
    "\n",
    "# Remove the 'description' column from the tokenized datasets\n",
    "tokenized_train = tokenized_train.remove_columns([\"description\"])\n",
    "tokenized_test = tokenized_test.remove_columns([\"description\"])\n",
    "\n",
    "# Set format for PyTorch\n",
    "tokenized_train.set_format(\"torch\", columns=[\"labels\", \"input_ids\", \"token_type_ids\", \"attention_mask\"])\n",
    "tokenized_test.set_format(\"torch\", columns=[\"labels\", \"input_ids\", \"token_type_ids\", \"attention_mask\"])\n",
    "\n",
    "# Create a DatasetDict\n",
    "tokenized_datasets = DatasetDict({\n",
    "    \"train\": tokenized_train,\n",
    "    \"test\": tokenized_test\n",
    "})\n",
    "\n",
    "# Check the structure of the DatasetDict\n",
    "print(tokenized_datasets)"
   ]
  },
  {
   "cell_type": "code",
   "execution_count": 72,
   "metadata": {},
   "outputs": [],
   "source": [
    "# Shuffle the dataset with a fixed seed and select a range of examples\n",
    "train_dataset = tokenized_datasets[\"train\"].shuffle(seed=42).select(range(2000))\n",
    "eval_dataset = tokenized_datasets[\"test\"].shuffle(seed=42).select(range(200))"
   ]
  },
  {
   "cell_type": "markdown",
   "metadata": {},
   "source": [
    "### Create DataLoader"
   ]
  },
  {
   "cell_type": "code",
   "execution_count": 73,
   "metadata": {},
   "outputs": [],
   "source": [
    "batchsize=10\n",
    "train_dataloader = DataLoader(train_dataset, shuffle=True, batch_size=batchsize)\n",
    "eval_dataloader = DataLoader(eval_dataset, batch_size=batchsize)"
   ]
  },
  {
   "cell_type": "markdown",
   "metadata": {},
   "source": [
    "## Model Structure"
   ]
  },
  {
   "cell_type": "markdown",
   "metadata": {},
   "source": [
    "### Define Model Architecture"
   ]
  },
  {
   "cell_type": "code",
   "execution_count": 74,
   "metadata": {},
   "outputs": [],
   "source": [
    "class Model(nn.Module):\n",
    "    def __init__(self,output_dim,dropout_rate):\n",
    "        super(Model,self).__init__()\n",
    "        self.encoder=AutoModelForMaskedLM.from_pretrained(\"bert-base-uncased\", output_hidden_states=True, return_dict=True)\n",
    "        self.dropout=nn.Dropout(dropout_rate)\n",
    "        # For the \"bert-base-uncased\" model, each hidden state has a dimension of 768.\n",
    "        # the value 3072=4*768 corresponds to the total dimension of the concatenated hidden states from the BERT model.\n",
    "        self.classifier=nn.Linear(3072,output_dim)\n",
    "\n",
    "    def forward(self,input_ids,token_type_ids,attention_mask):\n",
    "        outputs = self.encoder(input_ids, token_type_ids=token_type_ids, attention_mask=attention_mask)\n",
    "        # The shape of the resulting tensor is [batch_size, sequence_length, hidden_dim*4].\n",
    "        hidden_states = torch.cat(tuple([outputs.hidden_states[i] for i in [-1, -2, -3, -4]]), dim=-1)\n",
    "\n",
    "        x=self.dropout(hidden_states[:, 0, :])\n",
    "        x=self.classifier(x)\n",
    "        return x"
   ]
  },
  {
   "cell_type": "markdown",
   "metadata": {},
   "source": [
    "### Create Model Instance"
   ]
  },
  {
   "cell_type": "code",
   "execution_count": 75,
   "metadata": {},
   "outputs": [
    {
     "name": "stderr",
     "output_type": "stream",
     "text": [
      "/Users/thiri/Downloads/bt4222/.venv/lib/python3.10/site-packages/transformers/generation/configuration_utils.py:777: UserWarning: `return_dict_in_generate` is NOT set to `True`, but `output_hidden_states` is. When `return_dict_in_generate` is not `True`, `output_hidden_states` is ignored.\n",
      "  warnings.warn(\n",
      "Some weights of the model checkpoint at bert-base-uncased were not used when initializing BertForMaskedLM: ['bert.pooler.dense.bias', 'bert.pooler.dense.weight', 'cls.seq_relationship.bias', 'cls.seq_relationship.weight']\n",
      "- This IS expected if you are initializing BertForMaskedLM from the checkpoint of a model trained on another task or with another architecture (e.g. initializing a BertForSequenceClassification model from a BertForPreTraining model).\n",
      "- This IS NOT expected if you are initializing BertForMaskedLM from the checkpoint of a model that you expect to be exactly identical (initializing a BertForSequenceClassification model from a BertForSequenceClassification model).\n"
     ]
    }
   ],
   "source": [
    "model = Model(output_dim=2, dropout_rate = 0.5)\n",
    "device = torch.device(\"cuda\" if torch.cuda.is_available() else \"cpu\")\n",
    "model.to(device)\n",
    "loss_fct = CrossEntropyLoss()\n",
    "optimizer = AdamW(model.parameters(), lr=5e-5)"
   ]
  },
  {
   "cell_type": "markdown",
   "metadata": {},
   "source": [
    "### Training and Evaluation"
   ]
  },
  {
   "cell_type": "code",
   "execution_count": 76,
   "metadata": {},
   "outputs": [
    {
     "name": "stderr",
     "output_type": "stream",
     "text": [
      "1425it [8:01:51, 20.29s/it]\n"
     ]
    }
   ],
   "source": [
    "epochs = 5\n",
    "num_training_steps = epochs * len(train_dataloader)\n",
    "lr_scheduler = get_scheduler(\n",
    "name=\"linear\", optimizer=optimizer, num_warmup_steps=0, num_training_steps=num_training_steps\n",
    "    )\n",
    "metric = evaluate.load(\"accuracy\")\n",
    "progress_bar = tqdm(range(num_training_steps))"
   ]
  },
  {
   "cell_type": "code",
   "execution_count": 77,
   "metadata": {},
   "outputs": [
    {
     "name": "stderr",
     "output_type": "stream",
     "text": []
    },
    {
     "name": "stdout",
     "output_type": "stream",
     "text": [
      "Epoch 1\n",
      "val_loss : 0.6368129253387451\n",
      "==================================================\n"
     ]
    },
    {
     "name": "stderr",
     "output_type": "stream",
     "text": []
    },
    {
     "name": "stdout",
     "output_type": "stream",
     "text": [
      "Epoch 2\n",
      "val_loss : 0.5209155082702637\n",
      "==================================================\n"
     ]
    },
    {
     "name": "stderr",
     "output_type": "stream",
     "text": []
    },
    {
     "name": "stdout",
     "output_type": "stream",
     "text": [
      "Epoch 3\n",
      "val_loss : 0.8787531852722168\n",
      "==================================================\n"
     ]
    },
    {
     "name": "stderr",
     "output_type": "stream",
     "text": []
    },
    {
     "name": "stdout",
     "output_type": "stream",
     "text": [
      "Epoch 4\n",
      "val_loss : 0.9239662289619446\n",
      "==================================================\n"
     ]
    },
    {
     "name": "stderr",
     "output_type": "stream",
     "text": []
    },
    {
     "name": "stdout",
     "output_type": "stream",
     "text": [
      "Epoch 5\n",
      "val_loss : 0.905585765838623\n",
      "==================================================\n"
     ]
    }
   ],
   "source": [
    "all_true_labels = []\n",
    "all_predictions = []\n",
    "\n",
    "for epoch in range(epochs):\n",
    "        for batch in train_dataloader:\n",
    "            model.train()\n",
    "            # Loop through batches in the training data loader\n",
    "            batch = {k: v.to(device) for k, v in batch.items()}\n",
    "            label_ids = batch['labels'].long()\n",
    "            input_ids = batch['input_ids']\n",
    "            token_type_ids = None\n",
    "            attention_mask = batch['attention_mask']\n",
    "            # Perform a forward pass through the model to get logits\n",
    "            logits = model(input_ids, token_type_ids, attention_mask)\n",
    "\n",
    "            # Calculate loss\n",
    "            loss = loss_fct(logits, label_ids.view(-1))\n",
    "            # Perform backward pass and update model parameters\n",
    "            loss.backward()\n",
    "            optimizer.step()\n",
    "            lr_scheduler.step()\n",
    "            optimizer.zero_grad()\n",
    "            # Update progress bar\n",
    "            progress_bar.update(1)\n",
    "\n",
    "\n",
    "        model.eval()\n",
    "        true_labels = []\n",
    "        predictions = []\n",
    "\n",
    "        for batch in eval_dataloader:\n",
    "            batch = {k: v.to(device) for k, v in batch.items()}\n",
    "            with torch.no_grad(): # disable gradient computation\n",
    "                label_ids = batch['labels'].long()\n",
    "                input_ids = batch['input_ids']\n",
    "                token_type_ids = None\n",
    "                attention_mask = batch['attention_mask']\n",
    "                logits = model(input_ids, token_type_ids, attention_mask)\n",
    "                loss = loss_fct(logits, label_ids.view(-1))\n",
    "\n",
    "            # Get predicted labels by selecting the class with the highest probability\n",
    "            preds = torch.argmax(logits, dim=-1)\n",
    "            \n",
    "            metric.add_batch(predictions=preds, references=batch[\"labels\"])\n",
    "\n",
    "            predictions.extend(preds.cpu().numpy())\n",
    "            true_labels.extend(label_ids.cpu().numpy())\n",
    "        \n",
    "        all_true_labels.extend(true_labels)\n",
    "        all_predictions.extend(predictions)\n",
    "\n",
    "        acc = metric.compute()\n",
    "        print(f'Epoch {epoch+1}')\n",
    "        print(f'val_loss : {loss}')\n",
    "        print(25*'==')"
   ]
  },
  {
   "cell_type": "markdown",
   "metadata": {},
   "source": [
    "### Performance Metrics"
   ]
  },
  {
   "cell_type": "code",
   "execution_count": 95,
   "metadata": {},
   "outputs": [
    {
     "name": "stdout",
     "output_type": "stream",
     "text": [
      "Final Classification Report:\n",
      "               precision    recall  f1-score   support\n",
      "\n",
      "     Not Bot       0.62      0.64      0.63       320\n",
      "         Bot       0.83      0.81      0.82       680\n",
      "\n",
      "    accuracy                           0.76      1000\n",
      "   macro avg       0.72      0.73      0.73      1000\n",
      "weighted avg       0.76      0.76      0.76      1000\n",
      "\n"
     ]
    }
   ],
   "source": [
    "report = classification_report(all_true_labels, all_predictions, target_names=[\"Not Bot\", \"Bot\"], labels=[0,1])\n",
    "\n",
    "print(\"Final Classification Report:\\n\", report)"
   ]
  },
  {
   "cell_type": "code",
   "execution_count": 94,
   "metadata": {},
   "outputs": [
    {
     "name": "stdout",
     "output_type": "stream",
     "text": [
      "Recall:  0.8117647058823529\n",
      "Precision:  0.8288288288288288\n",
      "F1-Score: 0.8202080237741456\n"
     ]
    }
   ],
   "source": [
    "recall = recall_score(all_true_labels, all_predictions)\n",
    "precision = precision_score(all_true_labels, all_predictions)\n",
    "f1 = f1_score(all_true_labels, all_predictions)\n",
    "\n",
    "print(\"Recall: \", recall)\n",
    "print(\"Precision: \", precision)\n",
    "print(\"F1-Score:\", f1)"
   ]
  },
  {
   "cell_type": "markdown",
   "metadata": {},
   "source": [
    "### Confusion Matrix"
   ]
  },
  {
   "cell_type": "code",
   "execution_count": 98,
   "metadata": {},
   "outputs": [
    {
     "data": {
      "image/png": "[encoded data removed]",
      "text/plain": [
       "<Figure size 600x400 with 2 Axes>"
      ]
     },
     "metadata": {},
     "output_type": "display_data"
    }
   ],
   "source": [
    "cm = confusion_matrix(all_true_labels, all_predictions)\n",
    "labels = [\"Not Bot\", \"Bot\"]\n",
    "\n",
    "# Plot the confusion matrix\n",
    "plt.figure(figsize=(6, 4))\n",
    "sns.heatmap(cm, annot=True, fmt=\"d\", cmap=\"Blues\", xticklabels=labels, yticklabels=labels)\n",
    "plt.xlabel('Predicted labels')\n",
    "plt.ylabel('True labels')\n",
    "plt.title('Confusion Matrix')\n",
    "plt.show()"
   ]
  },
  {
   "cell_type": "markdown",
   "metadata": {},
   "source": [
    "### Replicability"
   ]
  },
  {
   "cell_type": "code",
   "execution_count": 82,
   "metadata": {},
   "outputs": [],
   "source": [
    "# Save model\n",
    "torch.save(model, \"output_files/description_sentiment_analysis.pkl\")"
   ]
  }
 ],
 "metadata": {
  "kernelspec": {
   "display_name": ".venv",
   "language": "python",
   "name": "python3"
  },
  "language_info": {
   "codemirror_mode": {
    "name": "ipython",
    "version": 3
   },
   "file_extension": ".py",
   "mimetype": "text/x-python",
   "name": "python",
   "nbconvert_exporter": "python",
   "pygments_lexer": "ipython3",
   "version": "3.10.2"
  }
 },
 "nbformat": 4,
 "nbformat_minor": 2
}
