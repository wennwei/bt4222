{
 "cells": [
  {
   "cell_type": "code",
   "execution_count": 346,
   "metadata": {},
   "outputs": [],
   "source": [
    "# Import Libraries\n",
    "import pandas as pd\n",
    "import numpy as np\n",
    "import matplotlib.pyplot as plt\n",
    "import seaborn as sns\n",
    "from sklearn.model_selection import train_test_split\n",
    "from sklearn.preprocessing import LabelEncoder\n",
    "from datetime import datetime\n",
    "import tensorflow as tf\n",
    "import warnings\n",
    "\n",
    "warnings.simplefilter(action='ignore', category=FutureWarning)"
   ]
  },
  {
   "cell_type": "code",
   "execution_count": 347,
   "metadata": {},
   "outputs": [],
   "source": [
    "# Load Data\n",
    "df = pd.read_csv(\"source data/twitter_human_bots_dataset.csv\")"
   ]
  },
  {
   "cell_type": "code",
   "execution_count": 348,
   "metadata": {},
   "outputs": [],
   "source": [
    "# Set seeds for reproducibility\n",
    "seed = 42\n",
    "np.random.seed(seed)\n",
    "torch.manual_seed(seed)\n",
    "\n",
    "if torch.cuda.is_available():\n",
    "    torch.cuda.manual_seed(seed)\n",
    "    torch.cuda.manual_seed_all(seed)\n",
    "    torch.backends.cudnn.deterministic = True\n",
    "    torch.backends.cudnn.benchmark = False"
   ]
  },
  {
   "cell_type": "code",
   "execution_count": 350,
   "metadata": {},
   "outputs": [
    {
     "name": "stdout",
     "output_type": "stream",
     "text": [
      "         Unnamed: 0                     created_at  default_profile  \\\n",
      "count  37438.000000                          37438     37438.000000   \n",
      "mean   18718.500000  2012-05-10 19:06:11.558710528         0.419894   \n",
      "min        0.000000            2006-07-05 19:52:46         0.000000   \n",
      "25%     9359.250000  2009-12-26 20:54:38.750000128         0.000000   \n",
      "50%    18718.500000            2011-10-27 02:04:41         0.000000   \n",
      "75%    28077.750000            2014-04-16 15:39:40         1.000000   \n",
      "max    37437.000000            2019-04-24 08:53:21         1.000000   \n",
      "std    10807.564026                            NaN         0.493548   \n",
      "\n",
      "       default_profile_image  favourites_count  followers_count  \\\n",
      "count           37438.000000      37438.000000     3.743800e+04   \n",
      "mean                0.014905      12302.062183     3.703098e+05   \n",
      "min                 0.000000          0.000000     0.000000e+00   \n",
      "25%                 0.000000        362.000000     3.500000e+01   \n",
      "50%                 0.000000       2066.000000     3.650000e+02   \n",
      "75%                 0.000000       8879.000000     8.440250e+03   \n",
      "max                 1.000000     885123.000000     1.216415e+08   \n",
      "std                 0.121173      33923.650237     2.470829e+06   \n",
      "\n",
      "       friends_count   geo_enabled            id          lang  ...  \\\n",
      "count   3.743800e+04  37438.000000  3.743800e+04  37438.000000  ...   \n",
      "mean    4.445925e+03      0.456141  1.221536e+17      9.959800  ...   \n",
      "min     0.000000e+00      0.000000  4.180000e+02      0.000000  ...   \n",
      "25%     3.700000e+01      0.000000  9.957306e+07      7.000000  ...   \n",
      "50%     2.960000e+02      0.000000  3.991474e+08     10.000000  ...   \n",
      "75%     8.930000e+02      1.000000  2.453826e+09     10.000000  ...   \n",
      "max     4.343060e+06      1.000000  1.120974e+18     48.000000  ...   \n",
      "std     4.954520e+04      0.498079  3.004313e+17      8.821715  ...   \n",
      "\n",
      "         is_weekend  creation_week_of_year  is_beginning_of_month  \\\n",
      "count  37438.000000                37438.0           37438.000000   \n",
      "mean       0.252337              25.293392               0.175570   \n",
      "min        0.000000                    1.0               0.000000   \n",
      "25%        0.000000                   13.0               0.000000   \n",
      "50%        0.000000                   25.0               0.000000   \n",
      "75%        1.000000                   37.0               0.000000   \n",
      "max        1.000000                   53.0               1.000000   \n",
      "std        0.434360              14.539285               0.380459   \n",
      "\n",
      "       is_end_of_month   part_of_day  deviation_from_humans  \\\n",
      "count     37438.000000  37438.000000           37438.000000   \n",
      "mean          0.172018      1.737593               0.012280   \n",
      "min           0.000000      0.000000              -0.460227   \n",
      "25%           0.000000      1.000000              -0.426289   \n",
      "50%           0.000000      2.000000              -0.358206   \n",
      "75%           0.000000      3.000000              -0.081216   \n",
      "max           1.000000      3.000000              86.548835   \n",
      "std           0.377401      1.175178               1.685264   \n",
      "\n",
      "       description_length  followers_to_friends_ratio  \\\n",
      "count        37438.000000                3.743800e+04   \n",
      "mean            67.017202                9.123033e+03   \n",
      "min              0.000000                0.000000e+00   \n",
      "25%             14.000000                1.548705e-01   \n",
      "50%             58.000000                8.281594e-01   \n",
      "75%            118.000000                5.987312e+00   \n",
      "max            191.000000                5.547370e+07   \n",
      "std             55.217549                3.898016e+05   \n",
      "\n",
      "       followers_to_tweets_per_day_ratio  mention_count  \n",
      "count                       3.743800e+04   37438.000000  \n",
      "mean                        9.329537e+05       0.299135  \n",
      "min                         0.000000e+00       0.000000  \n",
      "25%                         4.602353e+01       0.000000  \n",
      "50%                         2.146013e+02       0.000000  \n",
      "75%                         2.729065e+03       0.000000  \n",
      "max                         7.379663e+09      12.000000  \n",
      "std                         5.338276e+07       0.849194  \n",
      "\n",
      "[8 rows x 31 columns]\n"
     ]
    }
   ],
   "source": [
    "# Encoding Categorical Features\n",
    "df['account_type'] = df['account_type'].map({'human': 0, 'bot': 1})\n",
    "\n",
    "encode_cols = ['default_profile', 'default_profile_image', 'geo_enabled', 'lang', 'location', 'verified',\n",
    "               'creation_year', 'is_weekend', 'is_beginning_of_month', 'is_end_of_month', 'part_of_day']\n",
    "\n",
    "label_encoder = LabelEncoder()\n",
    "for col in encode_cols:\n",
    "    df[col] = label_encoder.fit_transform(df[col].astype(str))  # Convert to string to handle NaNs if any\n",
    "\n",
    "\n",
    "# Define Feature Columns and Target\n",
    "id_col = ['id']\n",
    "labels = ['account_type']\n",
    "predictive_cols = ['default_profile', 'default_profile_image', 'favourites_count', 'followers_count', 'friends_count',\n",
    "                   'geo_enabled', 'lang', 'location', 'statuses_count', 'verified', 'average_tweets_per_day', \n",
    "                   'account_age_days', 'creation_hour', 'creation_day_of_week', 'creation_month', 'creation_year',\n",
    "                   'creation_quarter', 'is_weekend', 'creation_week_of_year', 'is_beginning_of_month', \n",
    "                   'is_end_of_month', 'part_of_day', 'deviation_from_humans', 'description_length', \n",
    "                   'followers_to_friends_ratio', 'followers_to_tweets_per_day_ratio', 'mention_count','account_type']\n",
    "\n",
    "print(df.describe())"
   ]
  },
  {
   "cell_type": "code",
   "execution_count": 351,
   "metadata": {},
   "outputs": [],
   "source": [
    "from tensorflow.keras.preprocessing.text import Tokenizer\n",
    "from tensorflow.keras.preprocessing.sequence import pad_sequences\n",
    "\n",
    "predictive_cols = ['default_profile', 'default_profile_image', 'favourites_count', 'followers_count', 'friends_count',\n",
    "                   'geo_enabled', 'lang', 'location', 'statuses_count', 'verified', 'average_tweets_per_day', \n",
    "                   'account_age_days', 'creation_hour', 'creation_day_of_week', 'creation_month', 'creation_year',\n",
    "                   'creation_quarter', 'is_weekend', 'creation_week_of_year', 'is_beginning_of_month', \n",
    "                   'is_end_of_month', 'part_of_day', 'deviation_from_humans', 'description_length', \n",
    "                   'followers_to_friends_ratio', 'followers_to_tweets_per_day_ratio', 'mention_count', 'description', 'account_type']\n",
    "\n",
    "# Set cutoff date for training/validation split\n",
    "cutoff_date = pd.to_datetime('2017-01-01')\n",
    "df['date'] = pd.to_datetime(df['created_at'])\n",
    "\n",
    "# Define columns to keep\n",
    "id_cols = ['id']\n",
    "# Assuming predictive_cols is already defined\n",
    "columns_to_keep = id_cols + predictive_cols\n",
    "df_filtered = df[columns_to_keep + ['date']]\n",
    "\n",
    "# Split data based on cutoff date\n",
    "oot = df_filtered[df_filtered['date'] >= cutoff_date].set_index('id')\n",
    "df_model = df_filtered[df_filtered['date'] < cutoff_date].set_index('id')\n",
    "\n",
    "# Drop date column as it's no longer needed\n",
    "oot = oot.drop('date', axis=1)\n",
    "df_model = df_model.drop('date', axis=1)\n",
    "# print(df_model.columns)"
   ]
  },
  {
   "cell_type": "markdown",
   "metadata": {},
   "source": [
    "### Tokenization"
   ]
  },
  {
   "cell_type": "code",
   "execution_count": 352,
   "metadata": {},
   "outputs": [],
   "source": [
    "def process_text(text):\n",
    "    # Check if the input is not a string, return an empty string if so\n",
    "    if not isinstance(text, str):\n",
    "        return \"\"\n",
    "    \n",
    "    # Replace links with {link} and videos with [video]\n",
    "    text = re.sub(r'{link}', '', text)\n",
    "    text = re.sub(r\"\\[video\\]\", '', text)\n",
    "    \n",
    "    # Convert to lowercase\n",
    "    text = text.lower()\n",
    "\n",
    "    return text\n",
    "\n",
    "# Process text\n",
    "texts = df_model['description'].apply(lambda x: process_text(x))\n",
    "\n",
    "vocab_size = 14225\n",
    "tokenizer = Tokenizer(num_words=vocab_size)\n",
    "tokenizer.fit_on_texts(texts)\n",
    "\n",
    "# Tokenize text\n",
    "sequences = tokenizer.texts_to_sequences(texts)\n",
    "\n",
    "# Pad sequences to ensure they all have the same length\n",
    "# Using 75th percentile of description lengths as max_length\n",
    "description_lengths = df_model['description'].apply(lambda x: len(str(x).split()))\n",
    "max_length = description_lengths.quantile(0.75).astype(int)"
   ]
  },
  {
   "cell_type": "markdown",
   "metadata": {},
   "source": [
    "### Split into train, test and validation sets"
   ]
  },
  {
   "cell_type": "code",
   "execution_count": 353,
   "metadata": {},
   "outputs": [],
   "source": [
    "from sklearn.model_selection import train_test_split\n",
    "\n",
    "# Split into train and test set\n",
    "y = df_model['account_type']\n",
    "x_text = pad_sequences(sequences, maxlen=max_length, padding='post')\n",
    "x_num = df_model.drop(columns=['description', 'account_type'])\n",
    "\n",
    "x_text_train, x_text_test, x_num_train, x_num_test, y_train, y_test = train_test_split(\n",
    "    x_text, x_num, y, test_size=0.2, random_state=42)\n",
    "\n",
    "# Further split the train set to create a validation set\n",
    "x_text_train, x_text_val, x_num_train, x_num_val, y_train, y_val = train_test_split(\n",
    "    x_text_train, x_num_train, y_train, test_size=0.2, random_state=42)\n"
   ]
  },
  {
   "cell_type": "markdown",
   "metadata": {},
   "source": [
    "### Create DataLoader"
   ]
  },
  {
   "cell_type": "code",
   "execution_count": 354,
   "metadata": {},
   "outputs": [],
   "source": [
    "import torch\n",
    "from torch.utils.data import Dataset, DataLoader\n",
    "\n",
    "class TwitterDataset(Dataset):\n",
    "    def __init__(self, text_data, num_data, labels):\n",
    "        self.text_data = torch.tensor(text_data, dtype=torch.long)\n",
    "        self.num_data = torch.tensor(num_data.astype('float32').values, dtype=torch.float32)\n",
    "        self.labels = torch.tensor(labels.values, dtype=torch.long)\n",
    "\n",
    "    def __len__(self):\n",
    "        return len(self.labels)\n",
    "\n",
    "    def __getitem__(self, idx):\n",
    "        return {\n",
    "            'text': self.text_data[idx],\n",
    "            'numerical': self.num_data[idx],\n",
    "            'label': self.labels[idx]\n",
    "        }\n",
    "\n",
    "train_dataset = TwitterDataset(x_text_train, x_num_train, y_train)\n",
    "validation_dataset = TwitterDataset(x_text_val, x_num_val, y_val)\n",
    "test_dataset = TwitterDataset(x_text_test, x_num_test, y_test)\n",
    "\n",
    "BATCH_SIZE = 32\n",
    "train_loader = DataLoader(train_dataset, batch_size=BATCH_SIZE, shuffle=True)\n",
    "validation_loader = DataLoader(validation_dataset, batch_size=BATCH_SIZE, shuffle=True)\n",
    "test_loader = DataLoader(test_dataset, batch_size=BATCH_SIZE, shuffle=False)\n"
   ]
  },
  {
   "cell_type": "markdown",
   "metadata": {},
   "source": [
    "### Neural Network Model"
   ]
  },
  {
   "cell_type": "code",
   "execution_count": 355,
   "metadata": {},
   "outputs": [],
   "source": [
    "import torch.nn as nn\n",
    "\n",
    "class TwitterBotDetector(nn.Module):\n",
    "    def __init__(self, num_numerical_features, embedding_dim, hidden_dim):\n",
    "        super(TwitterBotDetector, self).__init__()\n",
    "        self.embedding = nn.Embedding(num_embeddings=vocab_size, embedding_dim=embedding_dim)\n",
    "        self.fc1 = nn.Linear(embedding_dim + num_numerical_features, hidden_dim)\n",
    "        # Add dropout\n",
    "        self.dropout = nn.Dropout(0.5)\n",
    "        self.fc2 = nn.Linear(hidden_dim, 1)\n",
    "        self.relu = nn.ReLU()\n",
    "        self.sigmoid = nn.Sigmoid()\n",
    "\n",
    "    def forward(self, x_text, x_num):\n",
    "        x_embed = self.embedding(x_text)\n",
    "        x_embed = x_embed.mean(dim=1)  # Average embeddings over the sequence\n",
    "        x = torch.cat((x_embed, x_num), dim=1)  # Concatenate text and numerical features\n",
    "        x = self.fc1(x)\n",
    "        x = self.relu(x)\n",
    "        x = self.dropout(x)\n",
    "        x = self.fc2(x)\n",
    "        return self.sigmoid(x)"
   ]
  },
  {
   "cell_type": "markdown",
   "metadata": {},
   "source": [
    "### Loss Function and Optimizer"
   ]
  },
  {
   "cell_type": "code",
   "execution_count": 356,
   "metadata": {},
   "outputs": [],
   "source": [
    "EMBEDDING_DIM = 100\n",
    "HIDDEN_DIM = 64\n",
    "model = TwitterBotDetector(num_numerical_features=x_num.shape[1], \n",
    "                           embedding_dim=EMBEDDING_DIM, \n",
    "                           hidden_dim=HIDDEN_DIM)\n",
    "\n",
    "# Binary Cross Entropy Loss for binary classification\n",
    "criterion = nn.BCELoss()\n",
    "optimizer = torch.optim.Adam(model.parameters(), lr=0.001)"
   ]
  },
  {
   "cell_type": "markdown",
   "metadata": {},
   "source": [
    "### Training"
   ]
  },
  {
   "cell_type": "code",
   "execution_count": 357,
   "metadata": {},
   "outputs": [
    {
     "name": "stdout",
     "output_type": "stream",
     "text": [
      "Epoch [1/5], Train Loss: 26.1203, Train Accuracy: 0.7229, Val Loss: 24.7431, Val Accuracy: 0.7469\n",
      "Epoch [2/5], Train Loss: 24.0716, Train Accuracy: 0.7508, Val Loss: 25.3973, Val Accuracy: 0.7422\n",
      "Epoch [3/5], Train Loss: 24.8702, Train Accuracy: 0.7447, Val Loss: 25.9199, Val Accuracy: 0.7372\n",
      "Epoch [4/5], Train Loss: 23.9007, Train Accuracy: 0.7546, Val Loss: 23.9786, Val Accuracy: 0.7565\n",
      "Epoch [5/5], Train Loss: 24.0938, Train Accuracy: 0.7518, Val Loss: 22.2326, Val Accuracy: 0.7731\n"
     ]
    }
   ],
   "source": [
    "num_epochs = 5\n",
    "\n",
    "for epoch in range(num_epochs):\n",
    "    # Training phase\n",
    "    model.train()\n",
    "    train_loss = 0\n",
    "    correct_train = 0\n",
    "    total_train = 0\n",
    "\n",
    "    for batch in train_loader:\n",
    "        text_batch = batch['text']\n",
    "        num_batch = batch['numerical']\n",
    "        labels = batch['label']\n",
    "\n",
    "        optimizer.zero_grad()\n",
    "        outputs = model(text_batch, num_batch)\n",
    "        loss = criterion(outputs, labels.float().view(-1, 1))\n",
    "        \n",
    "        loss.backward()\n",
    "        optimizer.step()\n",
    "\n",
    "        train_loss += loss.item()\n",
    "        \n",
    "        # Calculate training accuracy\n",
    "        predicted = (outputs > 0.5).float()\n",
    "        correct_train += (predicted.view(-1) == labels).sum().item()\n",
    "        total_train += labels.size(0)\n",
    "    \n",
    "    train_accuracy = correct_train / total_train\n",
    "    average_train_loss = train_loss / len(train_loader)\n",
    "\n",
    "    # Validation phase\n",
    "    model.eval()\n",
    "    val_loss = 0\n",
    "    correct_val = 0\n",
    "    total_val = 0\n",
    "\n",
    "    with torch.no_grad():\n",
    "        for batch in validation_loader:\n",
    "            text_batch = batch['text']\n",
    "            num_batch = batch['numerical']\n",
    "            labels = batch['label']\n",
    "\n",
    "            outputs = model(text_batch, num_batch)\n",
    "            loss = criterion(outputs, labels.float().view(-1, 1))\n",
    "            val_loss += loss.item()\n",
    "\n",
    "            # Calculate validation accuracy\n",
    "            predicted = (outputs > 0.5).float()\n",
    "            correct_val += (predicted.view(-1) == labels).sum().item()\n",
    "            total_val += labels.size(0)\n",
    "\n",
    "    val_accuracy = correct_val / total_val\n",
    "    average_val_loss = val_loss / len(validation_loader)\n",
    "\n",
    "    print(f'Epoch [{epoch+1}/{num_epochs}], '\n",
    "          f'Train Loss: {average_train_loss:.4f}, Train Accuracy: {train_accuracy:.4f}, '\n",
    "          f'Val Loss: {average_val_loss:.4f}, Val Accuracy: {val_accuracy:.4f}')"
   ]
  },
  {
   "cell_type": "markdown",
   "metadata": {},
   "source": [
    "### Evaluation"
   ]
  },
  {
   "cell_type": "code",
   "execution_count": 358,
   "metadata": {},
   "outputs": [
    {
     "name": "stdout",
     "output_type": "stream",
     "text": [
      "Test Loss: 21.7545\n",
      "Test Accuracy: 0.7785\n"
     ]
    }
   ],
   "source": [
    "model.eval()\n",
    "total = 0\n",
    "correct = 0\n",
    "total_loss = 0\n",
    "\n",
    "with torch.no_grad():\n",
    "    for batch in test_loader:\n",
    "        text_batch = batch['text']\n",
    "        num_batch = batch['numerical']\n",
    "        labels = batch['label']\n",
    "\n",
    "        outputs = model(text_batch, num_batch)\n",
    "        \n",
    "        # Calculate loss with raw outputs and actual labels\n",
    "        loss = criterion(outputs, labels.float().view(-1, 1))\n",
    "        total_loss += loss.item()\n",
    "        \n",
    "        # Calculate accuracy with thresholded predictions\n",
    "        predicted = (outputs > 0.5).float()\n",
    "        correct += (predicted.view(-1) == labels).sum().item()\n",
    "        total += labels.size(0)\n",
    "\n",
    "    average_test_loss = total_loss / len(test_loader)\n",
    "    test_accuracy = correct / total\n",
    "\n",
    "    print(f'Test Loss: {average_test_loss:.4f}')\n",
    "    print(f'Test Accuracy: {test_accuracy:.4f}')"
   ]
  },
  {
   "cell_type": "markdown",
   "metadata": {},
   "source": [
    "### GridSearch"
   ]
  },
  {
   "cell_type": "code",
   "execution_count": 359,
   "metadata": {},
   "outputs": [
    {
     "name": "stdout",
     "output_type": "stream",
     "text": [
      "Params: lr=0.001, batch_size=16, embedding_dim=50, hidden_dim=64 -> Val Accuracy: 0.7460\n",
      "Params: lr=0.001, batch_size=16, embedding_dim=50, hidden_dim=128 -> Val Accuracy: 0.7662\n",
      "Params: lr=0.001, batch_size=16, embedding_dim=100, hidden_dim=64 -> Val Accuracy: 0.7746\n",
      "Params: lr=0.001, batch_size=16, embedding_dim=100, hidden_dim=128 -> Val Accuracy: 0.7739\n",
      "Params: lr=0.001, batch_size=32, embedding_dim=50, hidden_dim=64 -> Val Accuracy: 0.7768\n",
      "Params: lr=0.001, batch_size=32, embedding_dim=50, hidden_dim=128 -> Val Accuracy: 0.7706\n",
      "Params: lr=0.001, batch_size=32, embedding_dim=100, hidden_dim=64 -> Val Accuracy: 0.7737\n",
      "Params: lr=0.001, batch_size=32, embedding_dim=100, hidden_dim=128 -> Val Accuracy: 0.7663\n",
      "Params: lr=0.01, batch_size=16, embedding_dim=50, hidden_dim=64 -> Val Accuracy: 0.3131\n",
      "Params: lr=0.01, batch_size=16, embedding_dim=50, hidden_dim=128 -> Val Accuracy: 0.6869\n",
      "Params: lr=0.01, batch_size=16, embedding_dim=100, hidden_dim=64 -> Val Accuracy: 0.3131\n",
      "Params: lr=0.01, batch_size=16, embedding_dim=100, hidden_dim=128 -> Val Accuracy: 0.6869\n",
      "Params: lr=0.01, batch_size=32, embedding_dim=50, hidden_dim=64 -> Val Accuracy: 0.3131\n",
      "Params: lr=0.01, batch_size=32, embedding_dim=50, hidden_dim=128 -> Val Accuracy: 0.3131\n",
      "Params: lr=0.01, batch_size=32, embedding_dim=100, hidden_dim=64 -> Val Accuracy: 0.6869\n",
      "Params: lr=0.01, batch_size=32, embedding_dim=100, hidden_dim=128 -> Val Accuracy: 0.6869\n",
      "Best Validation Accuracy: 0.7768 with parameters: {'learning_rate': 0.001, 'batch_size': 32, 'embedding_dim': 50, 'hidden_dim': 64}\n"
     ]
    }
   ],
   "source": [
    "import itertools\n",
    "import torch\n",
    "from torch.utils.data import DataLoader\n",
    "\n",
    "param_grid = {\n",
    "    'learning_rate': [0.001, 0.01],\n",
    "    'batch_size': [16, 32],\n",
    "    'embedding_dim': [50, 100],\n",
    "    'hidden_dim': [64, 128]\n",
    "}\n",
    "\n",
    "def train_and_evaluate(learning_rate, batch_size, embedding_dim, hidden_dim):\n",
    "    model = TwitterBotDetector(num_numerical_features=x_num_train.shape[1],\n",
    "                               embedding_dim=embedding_dim,\n",
    "                               hidden_dim=hidden_dim)\n",
    "    \n",
    "    criterion = nn.BCELoss()\n",
    "    optimizer = torch.optim.Adam(model.parameters(), lr=learning_rate)\n",
    "    \n",
    "    train_loader = DataLoader(train_dataset, batch_size=batch_size, shuffle=True)\n",
    "    val_loader = DataLoader(validation_dataset, batch_size=batch_size, shuffle=False)\n",
    "\n",
    "    # Training loop\n",
    "    for epoch in range(5):\n",
    "        model.train()\n",
    "        for batch in train_loader:\n",
    "            text_batch = batch['text']\n",
    "            num_batch = batch['numerical']\n",
    "            labels = batch['label']\n",
    "            optimizer.zero_grad()\n",
    "            outputs = model(text_batch, num_batch)\n",
    "            loss = criterion(outputs, labels.float().view(-1, 1))\n",
    "            loss.backward()\n",
    "            optimizer.step()\n",
    "    \n",
    "    # Validation evaluation\n",
    "    model.eval()\n",
    "    total = 0\n",
    "    correct = 0\n",
    "    with torch.no_grad():\n",
    "        for batch in val_loader:\n",
    "            text_batch = batch['text']\n",
    "            num_batch = batch['numerical']\n",
    "            labels = batch['label']\n",
    "            outputs = model(text_batch, num_batch)\n",
    "            predicted = (outputs > 0.5).float()\n",
    "            total += labels.size(0)\n",
    "            correct += (predicted.view(-1) == labels).sum().item()\n",
    "\n",
    "    val_accuracy = correct / total\n",
    "    return val_accuracy\n",
    "\n",
    "# Grid Search\n",
    "best_accuracy = 0\n",
    "best_params = {}\n",
    "\n",
    "for params in itertools.product(*param_grid.values()):\n",
    "    learning_rate, batch_size, embedding_dim, hidden_dim = params\n",
    "    val_accuracy = train_and_evaluate(learning_rate, batch_size, embedding_dim, hidden_dim)\n",
    "    \n",
    "    print(f\"Params: lr={learning_rate}, batch_size={batch_size}, embedding_dim={embedding_dim}, hidden_dim={hidden_dim} -> Val Accuracy: {val_accuracy:.4f}\")\n",
    "    \n",
    "    if val_accuracy > best_accuracy:\n",
    "        best_accuracy = val_accuracy\n",
    "        best_params = {\n",
    "            'learning_rate': learning_rate,\n",
    "            'batch_size': batch_size,\n",
    "            'embedding_dim': embedding_dim,\n",
    "            'hidden_dim': hidden_dim\n",
    "        }\n",
    "\n",
    "print(f\"Best Validation Accuracy: {best_accuracy:.4f} with parameters: {best_params}\")"
   ]
  },
  {
   "cell_type": "markdown",
   "metadata": {},
   "source": [
    "### Test with best parameters and generate confusion matrix"
   ]
  },
  {
   "cell_type": "code",
   "execution_count": 360,
   "metadata": {},
   "outputs": [
    {
     "name": "stdout",
     "output_type": "stream",
     "text": [
      "Test Loss: 21.9947\n",
      "Final Test Accuracy: 0.7767\n"
     ]
    }
   ],
   "source": [
    "import torch\n",
    "from sklearn.metrics import confusion_matrix, ConfusionMatrixDisplay\n",
    "import matplotlib.pyplot as plt\n",
    "\n",
    "# Train final model with the best hyperparameters on both train and validation sets\n",
    "final_train_val_dataset = torch.utils.data.ConcatDataset([train_dataset, validation_dataset])\n",
    "final_train_loader = DataLoader(final_train_val_dataset, batch_size=best_params['batch_size'], shuffle=True)\n",
    "\n",
    "final_model = TwitterBotDetector(num_numerical_features=x_num_train.shape[1],\n",
    "                                 embedding_dim=best_params['embedding_dim'],\n",
    "                                 hidden_dim=best_params['hidden_dim'])\n",
    "final_optimizer = torch.optim.Adam(final_model.parameters(), lr=best_params['learning_rate'])\n",
    "\n",
    "# Training with the combined train and validation set\n",
    "for epoch in range(5):\n",
    "    final_model.train()\n",
    "    for batch in final_train_loader:\n",
    "        text_batch = batch['text']\n",
    "        num_batch = batch['numerical']\n",
    "        labels = batch['label']\n",
    "        final_optimizer.zero_grad()\n",
    "        outputs = final_model(text_batch, num_batch)\n",
    "        loss = criterion(outputs, labels.float().view(-1, 1))\n",
    "        loss.backward()\n",
    "        final_optimizer.step()\n",
    "\n",
    "# Final evaluation on the test set\n",
    "final_model.eval()\n",
    "total_loss = 0\n",
    "correct = 0\n",
    "total = 0\n",
    "\n",
    "# Lists to collect all true labels and predictions\n",
    "all_labels = []\n",
    "all_predictions = []\n",
    "\n",
    "with torch.no_grad():\n",
    "    for batch in test_loader:\n",
    "        text_batch = batch['text']\n",
    "        num_batch = batch['numerical']\n",
    "        labels = batch['label']\n",
    "\n",
    "        outputs = final_model(text_batch, num_batch)\n",
    "        \n",
    "        # Calculate loss with raw outputs and actual labels\n",
    "        loss = criterion(outputs, labels.float().view(-1, 1))\n",
    "        total_loss += loss.item()\n",
    "\n",
    "        # Threshold outputs to get binary predictions\n",
    "        predicted = (outputs > 0.5).float()\n",
    "        \n",
    "        # Collect labels and predictions for the confusion matrix\n",
    "        all_labels.extend(labels.cpu().numpy())\n",
    "        all_predictions.extend(predicted.cpu().numpy())\n",
    "\n",
    "        correct += (predicted.view(-1) == labels).sum().item()\n",
    "        total += labels.size(0)\n",
    "\n",
    "# Calculate average loss and accuracy\n",
    "average_loss = total_loss / len(test_loader)\n",
    "accuracy = correct / total\n",
    "print(f'Test Loss: {average_loss:.4f}')\n",
    "print(f'Final Test Accuracy: {accuracy:.4f}')"
   ]
  },
  {
   "cell_type": "code",
   "execution_count": 366,
   "metadata": {},
   "outputs": [],
   "source": [
    "# Save model\n",
    "torch.save(model, \"output_files/nn_best_model.pkl\")"
   ]
  },
  {
   "cell_type": "code",
   "execution_count": 364,
   "metadata": {},
   "outputs": [
    {
     "name": "stdout",
     "output_type": "stream",
     "text": [
      "Classification Report:\n",
      "               precision    recall  f1-score   support\n",
      "\n",
      "     Not Bot       0.87      0.80      0.83      4673\n",
      "         Bot       0.62      0.73      0.67      2153\n",
      "\n",
      "    accuracy                           0.78      6826\n",
      "   macro avg       0.75      0.77      0.75      6826\n",
      "weighted avg       0.79      0.78      0.78      6826\n",
      "\n"
     ]
    }
   ],
   "source": [
    "from sklearn.metrics import classification_report\n",
    "report = classification_report(all_labels, all_predictions, target_names=[\"Not Bot\", \"Bot\"])\n",
    "\n",
    "print(\"Classification Report:\\n\", report)"
   ]
  },
  {
   "cell_type": "markdown",
   "metadata": {},
   "source": [
    "### Plot Confusion Matrix"
   ]
  },
  {
   "cell_type": "code",
   "execution_count": 361,
   "metadata": {},
   "outputs": [
    {
     "data": {
      "image/png": "[encoded data removed]",
      "text/plain": [
       "<Figure size 1000x700 with 2 Axes>"
      ]
     },
     "metadata": {},
     "output_type": "display_data"
    }
   ],
   "source": [
    "cm = confusion_matrix(all_labels, all_predictions)\n",
    "labels = [\"Not Bot\", \"Bot\"]\n",
    "\n",
    "# Plot the confusion matrix\n",
    "plt.figure(figsize=(10, 7))\n",
    "sns.heatmap(cm, annot=True, fmt=\"d\", cmap=\"Blues\", xticklabels=labels, yticklabels=labels)\n",
    "plt.xlabel('Predicted labels')\n",
    "plt.ylabel('True labels')\n",
    "plt.title('Confusion Matrix')\n",
    "plt.show()"
   ]
  }
 ],
 "metadata": {
  "kernelspec": {
   "display_name": ".venv",
   "language": "python",
   "name": "python3"
  },
  "language_info": {
   "codemirror_mode": {
    "name": "ipython",
    "version": 3
   },
   "file_extension": ".py",
   "mimetype": "text/x-python",
   "name": "python",
   "nbconvert_exporter": "python",
   "pygments_lexer": "ipython3",
   "version": "3.10.2"
  }
 },
 "nbformat": 4,
 "nbformat_minor": 2
}
