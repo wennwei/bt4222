{
 "cells": [
  {
   "cell_type": "code",
   "execution_count": 15,
   "metadata": {},
   "outputs": [
    {
     "data": {
      "text/html": [
       "<div>\n",
       "<style scoped>\n",
       "    .dataframe tbody tr th:only-of-type {\n",
       "        vertical-align: middle;\n",
       "    }\n",
       "\n",
       "    .dataframe tbody tr th {\n",
       "        vertical-align: top;\n",
       "    }\n",
       "\n",
       "    .dataframe thead th {\n",
       "        text-align: right;\n",
       "    }\n",
       "</style>\n",
       "<table border=\"1\" class=\"dataframe\">\n",
       "  <thead>\n",
       "    <tr style=\"text-align: right;\">\n",
       "      <th></th>\n",
       "      <th>Unnamed: 0</th>\n",
       "      <th>created_at</th>\n",
       "      <th>default_profile</th>\n",
       "      <th>default_profile_image</th>\n",
       "      <th>description</th>\n",
       "      <th>favourites_count</th>\n",
       "      <th>followers_count</th>\n",
       "      <th>friends_count</th>\n",
       "      <th>geo_enabled</th>\n",
       "      <th>id</th>\n",
       "      <th>lang</th>\n",
       "      <th>location</th>\n",
       "      <th>profile_background_image_url</th>\n",
       "      <th>profile_image_url</th>\n",
       "      <th>screen_name</th>\n",
       "      <th>statuses_count</th>\n",
       "      <th>verified</th>\n",
       "      <th>average_tweets_per_day</th>\n",
       "      <th>account_age_days</th>\n",
       "      <th>account_type</th>\n",
       "    </tr>\n",
       "  </thead>\n",
       "  <tbody>\n",
       "    <tr>\n",
       "      <th>0</th>\n",
       "      <td>0</td>\n",
       "      <td>2016-10-15 21:32:11</td>\n",
       "      <td>False</td>\n",
       "      <td>False</td>\n",
       "      <td>Blame @xaiax, Inspired by @MakingInvisible, us...</td>\n",
       "      <td>4</td>\n",
       "      <td>1589</td>\n",
       "      <td>4</td>\n",
       "      <td>False</td>\n",
       "      <td>787405734442958848</td>\n",
       "      <td>en</td>\n",
       "      <td>unknown</td>\n",
       "      <td>http://abs.twimg.com/images/themes/theme1/bg.png</td>\n",
       "      <td>http://pbs.twimg.com/profile_images/7874121826...</td>\n",
       "      <td>best_in_dumbest</td>\n",
       "      <td>11041</td>\n",
       "      <td>False</td>\n",
       "      <td>7.870</td>\n",
       "      <td>1403</td>\n",
       "      <td>bot</td>\n",
       "    </tr>\n",
       "    <tr>\n",
       "      <th>1</th>\n",
       "      <td>1</td>\n",
       "      <td>2016-11-09 05:01:30</td>\n",
       "      <td>False</td>\n",
       "      <td>False</td>\n",
       "      <td>Photographing the American West since 1980. I ...</td>\n",
       "      <td>536</td>\n",
       "      <td>860</td>\n",
       "      <td>880</td>\n",
       "      <td>False</td>\n",
       "      <td>796216118331310080</td>\n",
       "      <td>en</td>\n",
       "      <td>Estados Unidos</td>\n",
       "      <td>http://abs.twimg.com/images/themes/theme1/bg.png</td>\n",
       "      <td>http://pbs.twimg.com/profile_images/8023296328...</td>\n",
       "      <td>CJRubinPhoto</td>\n",
       "      <td>252</td>\n",
       "      <td>False</td>\n",
       "      <td>0.183</td>\n",
       "      <td>1379</td>\n",
       "      <td>human</td>\n",
       "    </tr>\n",
       "    <tr>\n",
       "      <th>2</th>\n",
       "      <td>2</td>\n",
       "      <td>2017-06-17 05:34:27</td>\n",
       "      <td>False</td>\n",
       "      <td>False</td>\n",
       "      <td>Scruffy looking nerf herder and @twitch broadc...</td>\n",
       "      <td>3307</td>\n",
       "      <td>172</td>\n",
       "      <td>594</td>\n",
       "      <td>True</td>\n",
       "      <td>875949740503859204</td>\n",
       "      <td>en</td>\n",
       "      <td>Los Angeles, CA</td>\n",
       "      <td>http://abs.twimg.com/images/themes/theme1/bg.png</td>\n",
       "      <td>http://pbs.twimg.com/profile_images/1278890453...</td>\n",
       "      <td>SVGEGENT</td>\n",
       "      <td>1001</td>\n",
       "      <td>False</td>\n",
       "      <td>0.864</td>\n",
       "      <td>1159</td>\n",
       "      <td>human</td>\n",
       "    </tr>\n",
       "    <tr>\n",
       "      <th>3</th>\n",
       "      <td>3</td>\n",
       "      <td>2016-07-21 13:32:25</td>\n",
       "      <td>True</td>\n",
       "      <td>False</td>\n",
       "      <td>Wife.Godmother.Friend.Feline Fanatic! Assistan...</td>\n",
       "      <td>8433</td>\n",
       "      <td>517</td>\n",
       "      <td>633</td>\n",
       "      <td>True</td>\n",
       "      <td>756119643622735875</td>\n",
       "      <td>en</td>\n",
       "      <td>Birmingham, AL</td>\n",
       "      <td>NaN</td>\n",
       "      <td>http://pbs.twimg.com/profile_images/1284884924...</td>\n",
       "      <td>TinkerVHELPK5</td>\n",
       "      <td>1324</td>\n",
       "      <td>False</td>\n",
       "      <td>0.889</td>\n",
       "      <td>1489</td>\n",
       "      <td>human</td>\n",
       "    </tr>\n",
       "    <tr>\n",
       "      <th>4</th>\n",
       "      <td>4</td>\n",
       "      <td>2012-01-15 16:32:35</td>\n",
       "      <td>False</td>\n",
       "      <td>False</td>\n",
       "      <td>Loan coach at @mancity &amp; Aspiring DJ</td>\n",
       "      <td>88</td>\n",
       "      <td>753678</td>\n",
       "      <td>116</td>\n",
       "      <td>True</td>\n",
       "      <td>464781334</td>\n",
       "      <td>en</td>\n",
       "      <td>England, United Kingdom</td>\n",
       "      <td>http://abs.twimg.com/images/themes/theme1/bg.png</td>\n",
       "      <td>http://pbs.twimg.com/profile_images/9952566258...</td>\n",
       "      <td>JoleonLescott</td>\n",
       "      <td>4202</td>\n",
       "      <td>True</td>\n",
       "      <td>1.339</td>\n",
       "      <td>3138</td>\n",
       "      <td>human</td>\n",
       "    </tr>\n",
       "  </tbody>\n",
       "</table>\n",
       "</div>"
      ],
      "text/plain": [
       "   Unnamed: 0           created_at  default_profile  default_profile_image  \\\n",
       "0           0  2016-10-15 21:32:11            False                  False   \n",
       "1           1  2016-11-09 05:01:30            False                  False   \n",
       "2           2  2017-06-17 05:34:27            False                  False   \n",
       "3           3  2016-07-21 13:32:25             True                  False   \n",
       "4           4  2012-01-15 16:32:35            False                  False   \n",
       "\n",
       "                                         description  favourites_count  \\\n",
       "0  Blame @xaiax, Inspired by @MakingInvisible, us...                 4   \n",
       "1  Photographing the American West since 1980. I ...               536   \n",
       "2  Scruffy looking nerf herder and @twitch broadc...              3307   \n",
       "3  Wife.Godmother.Friend.Feline Fanatic! Assistan...              8433   \n",
       "4               Loan coach at @mancity & Aspiring DJ                88   \n",
       "\n",
       "   followers_count  friends_count  geo_enabled                  id lang  \\\n",
       "0             1589              4        False  787405734442958848   en   \n",
       "1              860            880        False  796216118331310080   en   \n",
       "2              172            594         True  875949740503859204   en   \n",
       "3              517            633         True  756119643622735875   en   \n",
       "4           753678            116         True           464781334   en   \n",
       "\n",
       "                  location                      profile_background_image_url  \\\n",
       "0                  unknown  http://abs.twimg.com/images/themes/theme1/bg.png   \n",
       "1           Estados Unidos  http://abs.twimg.com/images/themes/theme1/bg.png   \n",
       "2          Los Angeles, CA  http://abs.twimg.com/images/themes/theme1/bg.png   \n",
       "3           Birmingham, AL                                               NaN   \n",
       "4  England, United Kingdom  http://abs.twimg.com/images/themes/theme1/bg.png   \n",
       "\n",
       "                                   profile_image_url      screen_name  \\\n",
       "0  http://pbs.twimg.com/profile_images/7874121826...  best_in_dumbest   \n",
       "1  http://pbs.twimg.com/profile_images/8023296328...     CJRubinPhoto   \n",
       "2  http://pbs.twimg.com/profile_images/1278890453...         SVGEGENT   \n",
       "3  http://pbs.twimg.com/profile_images/1284884924...    TinkerVHELPK5   \n",
       "4  http://pbs.twimg.com/profile_images/9952566258...    JoleonLescott   \n",
       "\n",
       "   statuses_count  verified  average_tweets_per_day  account_age_days  \\\n",
       "0           11041     False                   7.870              1403   \n",
       "1             252     False                   0.183              1379   \n",
       "2            1001     False                   0.864              1159   \n",
       "3            1324     False                   0.889              1489   \n",
       "4            4202      True                   1.339              3138   \n",
       "\n",
       "  account_type  \n",
       "0          bot  \n",
       "1        human  \n",
       "2        human  \n",
       "3        human  \n",
       "4        human  "
      ]
     },
     "execution_count": 15,
     "metadata": {},
     "output_type": "execute_result"
    }
   ],
   "source": [
    "# Import Libraries and Data\n",
    "import pandas as pd\n",
    "from sklearn.model_selection import train_test_split\n",
    "import sklearn\n",
    "import scorecardpy as sc\n",
    "import warnings \n",
    "import re\n",
    "\n",
    "\n",
    "warnings.simplefilter(action='ignore', category=FutureWarning)\n",
    "\n",
    "df = pd.read_csv(\"twitter_human_bots_dataset.csv\")\n",
    "df.head()\n",
    "\n"
   ]
  },
  {
   "cell_type": "markdown",
   "metadata": {},
   "source": [
    "### Provided Features\n",
    "* created_at: timestamp\n",
    "    * Day account was created\n",
    "\n",
    "* default_profile: Boolean\n",
    "    * Indicating whether the account has a default profile\n",
    "\n",
    "* default_profile_image: Boolean\n",
    "    * Indicating whether the account has a default image profile\n",
    "\n",
    "* description: String\n",
    "    * User account description\n",
    "\n",
    "* favourites_count: Int\n",
    "    * Total number of favourite tweets\n",
    "\n",
    "* followers_count: Int\n",
    "    * Total number of followers\n",
    "\n",
    "* friend_count: Int\n",
    "    * Total number of friends (people who follow back)\n",
    "\n",
    "* geo_enabled: Boolean\n",
    "    * Indicating whether the account has the geographic location enabled\n",
    "\n",
    "* id: string\n",
    "    * unique identifier of the account\n",
    "\n",
    "* lang: string\n",
    "    * Language of the account\n",
    "\n",
    "* location: \n",
    "    * Location of the account\n",
    "\n",
    "* profile_background: string\n",
    "    * Profile background image url\n",
    "\n",
    "* profile_image_url: String\n",
    "    * Profile image URL\n",
    "\n",
    "* screen_name: string\n",
    "    * username\n",
    "\n",
    "* statuses_count: int\n",
    "    * Total number of tweets\n",
    "\n",
    "* verified: Boolean\n",
    "    * Indicating whether the account has been verified\n",
    "\n",
    "* average_tweets_per_day: int\n",
    "    * Average tweets posted per day (statuses_count / account_age_day)\n",
    "\n",
    "* account_age_day: int\n",
    "    * Account age measured in days\n",
    "\n",
    "* account_type: binary\n",
    "    * account type, bot or human\n",
    "\n",
    "### Transformed Features to consider:\n",
    "* Sentiment analysis for description\n",
    "* Number of mentions in description to other bot accounts\n",
    "* Length of description\n",
    "* Ratio Followers_count to friends count\n",
    "* Ratio of Followers_count to tweets per day\n",
    "* Ratio of friends to tweets per day\n",
    "* Ratio of tweets since account created\n",
    "* Time when account was created (Past midnight of timezone, obtained from location)\n",
    "* Standard deviation of avg tweets from avg tweets of bots\n",
    "\n",
    "### Total Features: 18 (provided) + 9 (created)\n",
    "\n",
    "\n"
   ]
  },
  {
   "cell_type": "code",
   "execution_count": 16,
   "metadata": {},
   "outputs": [
    {
     "data": {
      "text/plain": [
       "Index(['Unnamed: 0', 'created_at', 'default_profile', 'default_profile_image',\n",
       "       'description', 'favourites_count', 'followers_count', 'friends_count',\n",
       "       'geo_enabled', 'id', 'lang', 'location', 'profile_background_image_url',\n",
       "       'profile_image_url', 'screen_name', 'statuses_count', 'verified',\n",
       "       'average_tweets_per_day', 'account_age_days', 'account_type'],\n",
       "      dtype='object')"
      ]
     },
     "execution_count": 16,
     "metadata": {},
     "output_type": "execute_result"
    }
   ],
   "source": [
    "df.columns"
   ]
  },
  {
   "cell_type": "markdown",
   "metadata": {},
   "source": [
    "Length of Description Feature"
   ]
  },
  {
   "cell_type": "code",
   "execution_count": 17,
   "metadata": {},
   "outputs": [],
   "source": [
    "df['description_length'] = df['description'].apply(lambda x: len(str(x)) if pd.notnull(x) else 0)"
   ]
  },
  {
   "cell_type": "markdown",
   "metadata": {},
   "source": [
    "Ratio of Followers_count to tweets per day"
   ]
  },
  {
   "cell_type": "code",
   "execution_count": 18,
   "metadata": {},
   "outputs": [],
   "source": [
    "df['followers_to_friends_ratio'] = df['followers_count'] / df['friends_count']\n"
   ]
  },
  {
   "cell_type": "markdown",
   "metadata": {},
   "source": [
    "Ratio of Followers_count to tweets per day"
   ]
  },
  {
   "cell_type": "code",
   "execution_count": 19,
   "metadata": {},
   "outputs": [],
   "source": [
    "df['followers_to_tweets_per_day_ratio'] = df['followers_count'] / df['average_tweets_per_day']\n"
   ]
  },
  {
   "cell_type": "markdown",
   "metadata": {},
   "source": [
    "Ratio of friends to tweets per day"
   ]
  },
  {
   "cell_type": "code",
   "execution_count": 20,
   "metadata": {},
   "outputs": [],
   "source": [
    "df['friends_to_tweets_per_day_ratio'] = df['friends_count'] / df['average_tweets_per_day']\n"
   ]
  },
  {
   "cell_type": "code",
   "execution_count": 21,
   "metadata": {},
   "outputs": [
    {
     "name": "stdout",
     "output_type": "stream",
     "text": [
      "                                         description  \\\n",
      "0  Blame @xaiax, Inspired by @MakingInvisible, us...   \n",
      "1  Photographing the American West since 1980. I ...   \n",
      "2  Scruffy looking nerf herder and @twitch broadc...   \n",
      "3  Wife.Godmother.Friend.Feline Fanatic! Assistan...   \n",
      "4               Loan coach at @mancity & Aspiring DJ   \n",
      "\n",
      "                     mentions  mention_count  \n",
      "0  [@xaiax, @MakingInvisible]              2  \n",
      "1                          []              0  \n",
      "2           [@twitch, @gmail]              2  \n",
      "3                          []              0  \n",
      "4                  [@mancity]              1  \n"
     ]
    }
   ],
   "source": [
    "def extract_mentions(description):\n",
    "    mentions = re.findall(r'@\\w+', str(description))\n",
    "    return mentions\n",
    "\n",
    "# Apply the function to the description column to create a new column with the mentions\n",
    "df['mentions'] = df['description'].apply(extract_mentions)\n",
    "\n",
    "# Feature: Count of mentions\n",
    "df['mention_count'] = df['mentions'].apply(len)\n",
    "\n",
    "# Display the dataframe with the new columns\n",
    "print(df[['description', 'mentions', 'mention_count' ]].head())\n"
   ]
  },
  {
   "cell_type": "code",
   "execution_count": 22,
   "metadata": {},
   "outputs": [],
   "source": [
    "df['followers_to_friends_ratio'].fillna(0, inplace=True)\n",
    "df['followers_to_tweets_per_day_ratio'].fillna(0, inplace=True)\n",
    "df['friends_to_tweets_per_day_ratio'].fillna(0, inplace=True)"
   ]
  },
  {
   "cell_type": "markdown",
   "metadata": {},
   "source": [
    "# Structure of ML Process\n",
    "\n",
    "## Data\n",
    "* Data Cleaning, Imputation, etc..\n",
    "* Train Test split (based on account creation date)\n",
    "* 2006-2017 used to train,test validate model\n",
    "* 2018-2019, out of sample testing, to test how well model performs with more recent data\n",
    "\n",
    "## Features\n",
    "* Feature Creation\n",
    "* Feature Reduction (using Weight of Evidence(woe) check for feature importance, Correlation)\n",
    "* Run feature selection using tree base algo (random forest or smth)\n",
    "\n",
    "## Model training\n",
    "\n",
    "### Tree based models\n",
    "* XGB, LGBM, RF, ETC, DT\n",
    "\n",
    "### Neural Networks\n",
    "* NN, autoencoders(?), GNN\n",
    "\n",
    "---\n",
    "\n",
    "### Get Shap for model explanability both local and global\n",
    "* Tune model on best model selected (either on precision/f1/recall and feature blend)\n",
    "\n",
    "### Test model on out of sample set\n",
    "* Get metrics(acc,precision,f1, etc..) from out of sample set\n",
    "\n",
    "### Dashboard(?) --enhancement\n",
    "* Transfer results to a dashboard"
   ]
  },
  {
   "cell_type": "code",
   "execution_count": 23,
   "metadata": {},
   "outputs": [
    {
     "data": {
      "text/plain": [
       "Unnamed: 0                              0\n",
       "created_at                              0\n",
       "default_profile                         0\n",
       "default_profile_image                   0\n",
       "description                          7256\n",
       "favourites_count                        0\n",
       "followers_count                         0\n",
       "friends_count                           0\n",
       "geo_enabled                             0\n",
       "id                                      0\n",
       "lang                                 7957\n",
       "location                                3\n",
       "profile_background_image_url         4499\n",
       "profile_image_url                       1\n",
       "screen_name                             0\n",
       "statuses_count                          0\n",
       "verified                                0\n",
       "average_tweets_per_day                  0\n",
       "account_age_days                        0\n",
       "account_type                            0\n",
       "description_length                      0\n",
       "followers_to_friends_ratio              0\n",
       "followers_to_tweets_per_day_ratio       0\n",
       "friends_to_tweets_per_day_ratio         0\n",
       "mentions                                0\n",
       "mention_count                           0\n",
       "dtype: int64"
      ]
     },
     "execution_count": 23,
     "metadata": {},
     "output_type": "execute_result"
    }
   ],
   "source": [
    "# Checking for Null Values\n",
    "missing_values = df.isnull().sum()\n",
    "missing_values"
   ]
  },
  {
   "cell_type": "code",
   "execution_count": 24,
   "metadata": {},
   "outputs": [],
   "source": [
    "df['followers_to_friends_ratio'].fillna(0, inplace=True)\n",
    "df['followers_to_tweets_per_day_ratio'].fillna(0, inplace=True)\n",
    "df['friends_to_tweets_per_day_ratio'].fillna(0, inplace=True)"
   ]
  },
  {
   "cell_type": "markdown",
   "metadata": {},
   "source": [
    "### How WOE works:\n",
    "Run the features you want to conduct weight of evidence on. For example, I put the features in temp_list and then created a dataframe containing only those features in df_tmp.\n",
    "\n",
    "* Step 1: Replace temp_list with your features\n",
    "* Step 2: Run code chunk below\n",
    "* Step 3: Look at the WOE score for each bin of each feature to interpret WOE results\n",
    "\n",
    "How to Interpret WOE scores\n",
    "Negative or Positive Values indicate the direction of the feature while the magnitude indicate the strength of the feature.\n",
    "E.g For the feature \"statuses_count\", if the woe score for one of its bin is 0.5 it indicates that for that bin, the feature \"statuses_count\" identifies many bots.\n",
    "Conversely if the woe score for one of its bin is -0.7, it means that the feature is not good a predicting bots.\n",
    "\n",
    "Also do look at the IV scores to determine the features contribution. Generally an IV of >0.02 indicates weak predictive power while >0.5 indicates strong predictive power."
   ]
  },
  {
   "cell_type": "code",
   "execution_count": 25,
   "metadata": {},
   "outputs": [
    {
     "name": "stdout",
     "output_type": "stream",
     "text": [
      "[INFO] creating woe binning ...\n",
      "Binning for mention_count:\n",
      "        variable         bin  count  count_distr   good    bad   badprob  \\\n",
      "0  mention_count  [-inf,1.0)  31088     0.830386  19724  11364  0.365543   \n",
      "1  mention_count   [1.0,2.0)   3841     0.102596   3063    778  0.202551   \n",
      "2  mention_count   [2.0,inf)   2509     0.067017   2226    283  0.112794   \n",
      "\n",
      "        woe    bin_iv  total_iv breaks  is_special_values  \n",
      "0  0.148299  0.018694  0.149074    1.0              False  \n",
      "1 -0.670738  0.040137  0.149074    2.0              False  \n",
      "2 -1.362830  0.090243  0.149074    inf              False  \n",
      "Binning for favourites_count:\n",
      "           variable              bin  count  count_distr   good    bad  \\\n",
      "0  favourites_count    [-inf,3000.0)  22524     0.601635  11704  10820   \n",
      "1  favourites_count  [3000.0,5000.0)   2707     0.072306   2167    540   \n",
      "2  favourites_count     [5000.0,inf)  12207     0.326059  11142   1065   \n",
      "\n",
      "    badprob       woe    bin_iv  total_iv  breaks  is_special_values  \n",
      "0  0.480376  0.621151  0.250267  0.872914  3000.0              False  \n",
      "1  0.199483 -0.689845  0.029783  0.872914  5000.0              False  \n",
      "2  0.087245 -1.648062  0.592864  0.872914     inf              False  \n",
      "Binning for followers_count:\n",
      "          variable             bin  count  count_distr   good    bad  \\\n",
      "0  followers_count    [-inf,500.0)  20173     0.538838   9881  10292   \n",
      "1  followers_count  [500.0,1500.0)   4511     0.120493   3685    826   \n",
      "2  followers_count    [1500.0,inf)  12754     0.340670  11447   1307   \n",
      "\n",
      "    badprob       woe    bin_iv  total_iv  breaks  is_special_values  \n",
      "0  0.510187  0.740438  0.320829  0.903372   500.0              False  \n",
      "1  0.183108 -0.795746  0.064332  0.903372  1500.0              False  \n",
      "2  0.102478 -1.470308  0.518211  0.903372     inf              False  \n"
     ]
    }
   ],
   "source": [
    "temp_lst = ['favourites_count', 'followers_count','account_type','mention_count']\n",
    "#Transforming Bot/Human to 1s and 0s\n",
    "df['account_type'] = df['account_type'].replace({'bot': 1, 'human': 0})\n",
    "\n",
    "# Replace 'target' with actual column name\n",
    "y = df['account_type']  \n",
    "# Drop target to leave only features\n",
    "X = df.drop(columns=['account_type'])  \n",
    "\n",
    "df_tmp = df[temp_lst]\n",
    "# Conduct the binning process using woebin\n",
    "bins = sc.woebin(df_tmp, y='account_type', bins = 5)\n",
    "\n",
    "# Display the binning information (optional to view WoE values per variable)\n",
    "for key in bins.keys():\n",
    "    print(f\"Binning for {key}:\")\n",
    "    print(bins[key])\n"
   ]
  },
  {
   "cell_type": "code",
   "execution_count": 26,
   "metadata": {},
   "outputs": [
    {
     "data": {
      "text/plain": [
       "\"\\n        'created_at', 'default_profile', 'default_profile_image',\\n       'description', 'favourites_count', 'followers_count', 'friends_count',\\n       'geo_enabled', 'id', 'lang', 'location', 'profile_background_image_url',\\n       'profile_image_url', 'screen_name', 'statuses_count', 'verified',\\n       'average_tweets_per_day', 'account_age_days', 'account_type'\\n\\n\""
      ]
     },
     "execution_count": 26,
     "metadata": {},
     "output_type": "execute_result"
    }
   ],
   "source": [
    "\n",
    "df.shape\n",
    "\n",
    "#Transforming features\n",
    "#tagging of description, construct some sort NLA\n",
    "#text analysis for description\n",
    "#ratio followers_count to friends count\n",
    "#ratio of followers to tweets per day\n",
    "# ratio of friends to tweets per day\n",
    "#length of descriptions\n",
    "\"\"\"\n",
    "        'created_at', 'default_profile', 'default_profile_image',\n",
    "       'description', 'favourites_count', 'followers_count', 'friends_count',\n",
    "       'geo_enabled', 'id', 'lang', 'location', 'profile_background_image_url',\n",
    "       'profile_image_url', 'screen_name', 'statuses_count', 'verified',\n",
    "       'average_tweets_per_day', 'account_age_days', 'account_type'\n",
    "\n",
    "\"\"\"\n",
    "\n"
   ]
  },
  {
   "cell_type": "code",
   "execution_count": 27,
   "metadata": {},
   "outputs": [
    {
     "data": {
      "text/plain": [
       "2006      13\n",
       "2007     354\n",
       "2008    1447\n",
       "2009    7598\n",
       "2010    4668\n",
       "2011    5550\n",
       "2012    4594\n",
       "2013    3013\n",
       "2014    2476\n",
       "2015    2140\n",
       "2016    2276\n",
       "2017    2445\n",
       "2018     835\n",
       "2019      29\n",
       "Name: year, dtype: int64"
      ]
     },
     "execution_count": 27,
     "metadata": {},
     "output_type": "execute_result"
    }
   ],
   "source": [
    "df['year'] = pd.to_datetime(df['created_at']).dt.year\n",
    "year_distribution = df['year'].value_counts().sort_index()\n",
    "year_distribution"
   ]
  }
 ],
 "metadata": {
  "kernelspec": {
   "display_name": "Python 3",
   "language": "python",
   "name": "python3"
  },
  "language_info": {
   "codemirror_mode": {
    "name": "ipython",
    "version": 3
   },
   "file_extension": ".py",
   "mimetype": "text/x-python",
   "name": "python",
   "nbconvert_exporter": "python",
   "pygments_lexer": "ipython3",
   "version": "3.10.4"
  }
 },
 "nbformat": 4,
 "nbformat_minor": 2
}
