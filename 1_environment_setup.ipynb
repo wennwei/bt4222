{
 "cells": [
  {
   "cell_type": "markdown",
   "metadata": {},
   "source": [
    "## Setup Environment\n",
    "Use your own python\n",
    "I used 3.9.6"
   ]
  },
  {
   "cell_type": "code",
   "execution_count": 1,
   "metadata": {},
   "outputs": [
    {
     "name": "stdout",
     "output_type": "stream",
     "text": [
      "Note: you may need to restart the kernel to use updated packages.\n"
     ]
    }
   ],
   "source": [
    "# Saves the installed requirements to a requirements file\n",
    "%pip freeze > requirements.txt"
   ]
  },
  {
   "cell_type": "code",
   "execution_count": null,
   "metadata": {},
   "outputs": [
    {
     "name": "stdout",
     "output_type": "stream",
     "text": [
      "Requirement already satisfied: accelerate==1.0.0 in ./.venv/lib/python3.9/site-packages (from -r requirements.txt (line 1)) (1.0.0)\n",
      "Requirement already satisfied: aiohappyeyeballs==2.4.3 in ./.venv/lib/python3.9/site-packages (from -r requirements.txt (line 2)) (2.4.3)\n",
      "Requirement already satisfied: aiohttp==3.10.9 in ./.venv/lib/python3.9/site-packages (from -r requirements.txt (line 3)) (3.10.9)\n",
      "Requirement already satisfied: aiosignal==1.3.1 in ./.venv/lib/python3.9/site-packages (from -r requirements.txt (line 4)) (1.3.1)\n",
      "Requirement already satisfied: appnope==0.1.4 in ./.venv/lib/python3.9/site-packages (from -r requirements.txt (line 5)) (0.1.4)\n",
      "Requirement already satisfied: asttokens==2.4.1 in ./.venv/lib/python3.9/site-packages (from -r requirements.txt (line 6)) (2.4.1)\n",
      "Requirement already satisfied: async-timeout==4.0.3 in ./.venv/lib/python3.9/site-packages (from -r requirements.txt (line 7)) (4.0.3)\n",
      "Requirement already satisfied: attrs==24.2.0 in ./.venv/lib/python3.9/site-packages (from -r requirements.txt (line 8)) (24.2.0)\n",
      "Requirement already satisfied: certifi==2024.8.30 in ./.venv/lib/python3.9/site-packages (from -r requirements.txt (line 9)) (2024.8.30)\n",
      "Requirement already satisfied: charset-normalizer==3.4.0 in ./.venv/lib/python3.9/site-packages (from -r requirements.txt (line 10)) (3.4.0)\n",
      "Requirement already satisfied: comm==0.2.2 in ./.venv/lib/python3.9/site-packages (from -r requirements.txt (line 11)) (0.2.2)\n",
      "Requirement already satisfied: contourpy==1.3.0 in ./.venv/lib/python3.9/site-packages (from -r requirements.txt (line 12)) (1.3.0)\n",
      "Requirement already satisfied: cycler==0.12.1 in ./.venv/lib/python3.9/site-packages (from -r requirements.txt (line 13)) (0.12.1)\n",
      "Requirement already satisfied: datasets==3.0.1 in ./.venv/lib/python3.9/site-packages (from -r requirements.txt (line 14)) (3.0.1)\n",
      "Requirement already satisfied: debugpy==1.8.6 in ./.venv/lib/python3.9/site-packages (from -r requirements.txt (line 15)) (1.8.6)\n",
      "Requirement already satisfied: decorator==5.1.1 in ./.venv/lib/python3.9/site-packages (from -r requirements.txt (line 16)) (5.1.1)\n",
      "Requirement already satisfied: dill==0.3.8 in ./.venv/lib/python3.9/site-packages (from -r requirements.txt (line 17)) (0.3.8)\n",
      "Requirement already satisfied: exceptiongroup==1.2.2 in ./.venv/lib/python3.9/site-packages (from -r requirements.txt (line 18)) (1.2.2)\n",
      "Requirement already satisfied: executing==2.1.0 in ./.venv/lib/python3.9/site-packages (from -r requirements.txt (line 19)) (2.1.0)\n",
      "Requirement already satisfied: filelock==3.16.1 in ./.venv/lib/python3.9/site-packages (from -r requirements.txt (line 20)) (3.16.1)\n",
      "Requirement already satisfied: fonttools==4.54.1 in ./.venv/lib/python3.9/site-packages (from -r requirements.txt (line 21)) (4.54.1)\n",
      "Requirement already satisfied: frozenlist==1.4.1 in ./.venv/lib/python3.9/site-packages (from -r requirements.txt (line 22)) (1.4.1)\n",
      "Requirement already satisfied: fsspec==2024.6.1 in ./.venv/lib/python3.9/site-packages (from -r requirements.txt (line 23)) (2024.6.1)\n",
      "Requirement already satisfied: huggingface-hub==0.25.2 in ./.venv/lib/python3.9/site-packages (from -r requirements.txt (line 24)) (0.25.2)\n",
      "Requirement already satisfied: idna==3.10 in ./.venv/lib/python3.9/site-packages (from -r requirements.txt (line 25)) (3.10)\n",
      "Requirement already satisfied: importlib_metadata==8.5.0 in ./.venv/lib/python3.9/site-packages (from -r requirements.txt (line 26)) (8.5.0)\n",
      "Requirement already satisfied: importlib_resources==6.4.5 in ./.venv/lib/python3.9/site-packages (from -r requirements.txt (line 27)) (6.4.5)\n",
      "Requirement already satisfied: ipykernel==6.29.5 in ./.venv/lib/python3.9/site-packages (from -r requirements.txt (line 28)) (6.29.5)\n",
      "Requirement already satisfied: ipython==8.18.1 in ./.venv/lib/python3.9/site-packages (from -r requirements.txt (line 29)) (8.18.1)\n",
      "Requirement already satisfied: jedi==0.19.1 in ./.venv/lib/python3.9/site-packages (from -r requirements.txt (line 30)) (0.19.1)\n",
      "Requirement already satisfied: Jinja2==3.1.4 in ./.venv/lib/python3.9/site-packages (from -r requirements.txt (line 31)) (3.1.4)\n",
      "Requirement already satisfied: joblib==1.4.2 in ./.venv/lib/python3.9/site-packages (from -r requirements.txt (line 32)) (1.4.2)\n",
      "Requirement already satisfied: jupyter_client==8.6.3 in ./.venv/lib/python3.9/site-packages (from -r requirements.txt (line 33)) (8.6.3)\n",
      "Requirement already satisfied: jupyter_core==5.7.2 in ./.venv/lib/python3.9/site-packages (from -r requirements.txt (line 34)) (5.7.2)\n",
      "Requirement already satisfied: kiwisolver==1.4.7 in ./.venv/lib/python3.9/site-packages (from -r requirements.txt (line 35)) (1.4.7)\n",
      "Requirement already satisfied: MarkupSafe==3.0.1 in ./.venv/lib/python3.9/site-packages (from -r requirements.txt (line 36)) (3.0.1)\n",
      "Requirement already satisfied: matplotlib==3.9.2 in ./.venv/lib/python3.9/site-packages (from -r requirements.txt (line 37)) (3.9.2)\n",
      "Requirement already satisfied: matplotlib-inline==0.1.7 in ./.venv/lib/python3.9/site-packages (from -r requirements.txt (line 38)) (0.1.7)\n",
      "Requirement already satisfied: mpmath==1.3.0 in ./.venv/lib/python3.9/site-packages (from -r requirements.txt (line 39)) (1.3.0)\n",
      "Requirement already satisfied: multidict==6.1.0 in ./.venv/lib/python3.9/site-packages (from -r requirements.txt (line 40)) (6.1.0)\n",
      "Requirement already satisfied: multiprocess==0.70.16 in ./.venv/lib/python3.9/site-packages (from -r requirements.txt (line 41)) (0.70.16)\n",
      "Requirement already satisfied: nest-asyncio==1.6.0 in ./.venv/lib/python3.9/site-packages (from -r requirements.txt (line 42)) (1.6.0)\n",
      "Requirement already satisfied: networkx==3.2.1 in ./.venv/lib/python3.9/site-packages (from -r requirements.txt (line 43)) (3.2.1)\n",
      "Requirement already satisfied: numpy==2.0.2 in ./.venv/lib/python3.9/site-packages (from -r requirements.txt (line 44)) (2.0.2)\n",
      "Requirement already satisfied: packaging==24.1 in ./.venv/lib/python3.9/site-packages (from -r requirements.txt (line 45)) (24.1)\n",
      "Requirement already satisfied: pandas==2.2.3 in ./.venv/lib/python3.9/site-packages (from -r requirements.txt (line 46)) (2.2.3)\n",
      "Requirement already satisfied: parso==0.8.4 in ./.venv/lib/python3.9/site-packages (from -r requirements.txt (line 47)) (0.8.4)\n",
      "Requirement already satisfied: patsy==0.5.6 in ./.venv/lib/python3.9/site-packages (from -r requirements.txt (line 48)) (0.5.6)\n",
      "Requirement already satisfied: pexpect==4.9.0 in ./.venv/lib/python3.9/site-packages (from -r requirements.txt (line 49)) (4.9.0)\n",
      "Requirement already satisfied: pillow==10.4.0 in ./.venv/lib/python3.9/site-packages (from -r requirements.txt (line 50)) (10.4.0)\n",
      "Requirement already satisfied: platformdirs==4.3.6 in ./.venv/lib/python3.9/site-packages (from -r requirements.txt (line 51)) (4.3.6)\n",
      "Requirement already satisfied: prompt_toolkit==3.0.48 in ./.venv/lib/python3.9/site-packages (from -r requirements.txt (line 52)) (3.0.48)\n",
      "Requirement already satisfied: propcache==0.2.0 in ./.venv/lib/python3.9/site-packages (from -r requirements.txt (line 53)) (0.2.0)\n",
      "Requirement already satisfied: psutil==6.0.0 in ./.venv/lib/python3.9/site-packages (from -r requirements.txt (line 54)) (6.0.0)\n",
      "Requirement already satisfied: ptyprocess==0.7.0 in ./.venv/lib/python3.9/site-packages (from -r requirements.txt (line 55)) (0.7.0)\n",
      "Requirement already satisfied: pure_eval==0.2.3 in ./.venv/lib/python3.9/site-packages (from -r requirements.txt (line 56)) (0.2.3)\n",
      "Requirement already satisfied: pyarrow==17.0.0 in ./.venv/lib/python3.9/site-packages (from -r requirements.txt (line 57)) (17.0.0)\n",
      "Requirement already satisfied: Pygments==2.18.0 in ./.venv/lib/python3.9/site-packages (from -r requirements.txt (line 58)) (2.18.0)\n",
      "Requirement already satisfied: pyparsing==3.1.4 in ./.venv/lib/python3.9/site-packages (from -r requirements.txt (line 59)) (3.1.4)\n",
      "Requirement already satisfied: python-dateutil==2.9.0.post0 in ./.venv/lib/python3.9/site-packages (from -r requirements.txt (line 60)) (2.9.0.post0)\n",
      "Requirement already satisfied: pytz==2024.2 in ./.venv/lib/python3.9/site-packages (from -r requirements.txt (line 61)) (2024.2)\n",
      "Requirement already satisfied: PyYAML==6.0.2 in ./.venv/lib/python3.9/site-packages (from -r requirements.txt (line 62)) (6.0.2)\n",
      "Requirement already satisfied: pyzmq==26.2.0 in ./.venv/lib/python3.9/site-packages (from -r requirements.txt (line 63)) (26.2.0)\n",
      "Requirement already satisfied: regex==2024.9.11 in ./.venv/lib/python3.9/site-packages (from -r requirements.txt (line 64)) (2024.9.11)\n",
      "Requirement already satisfied: requests==2.32.3 in ./.venv/lib/python3.9/site-packages (from -r requirements.txt (line 65)) (2.32.3)\n",
      "Requirement already satisfied: safetensors==0.4.5 in ./.venv/lib/python3.9/site-packages (from -r requirements.txt (line 66)) (0.4.5)\n",
      "Requirement already satisfied: scikit-learn==1.5.2 in ./.venv/lib/python3.9/site-packages (from -r requirements.txt (line 67)) (1.5.2)\n",
      "Requirement already satisfied: scipy==1.13.1 in ./.venv/lib/python3.9/site-packages (from -r requirements.txt (line 68)) (1.13.1)\n",
      "Requirement already satisfied: scorecardpy==0.1.9.7 in ./.venv/lib/python3.9/site-packages (from -r requirements.txt (line 69)) (0.1.9.7)\n",
      "Requirement already satisfied: six==1.16.0 in ./.venv/lib/python3.9/site-packages (from -r requirements.txt (line 70)) (1.16.0)\n",
      "Requirement already satisfied: stack-data==0.6.3 in ./.venv/lib/python3.9/site-packages (from -r requirements.txt (line 71)) (0.6.3)\n",
      "Requirement already satisfied: statsmodels==0.14.4 in ./.venv/lib/python3.9/site-packages (from -r requirements.txt (line 72)) (0.14.4)\n",
      "Requirement already satisfied: sympy==1.13.3 in ./.venv/lib/python3.9/site-packages (from -r requirements.txt (line 73)) (1.13.3)\n",
      "Requirement already satisfied: threadpoolctl==3.5.0 in ./.venv/lib/python3.9/site-packages (from -r requirements.txt (line 74)) (3.5.0)\n",
      "Requirement already satisfied: tokenizers==0.20.0 in ./.venv/lib/python3.9/site-packages (from -r requirements.txt (line 75)) (0.20.0)\n",
      "Requirement already satisfied: torch==2.4.1 in ./.venv/lib/python3.9/site-packages (from -r requirements.txt (line 76)) (2.4.1)\n",
      "Requirement already satisfied: tornado==6.4.1 in ./.venv/lib/python3.9/site-packages (from -r requirements.txt (line 77)) (6.4.1)\n",
      "Requirement already satisfied: tqdm==4.66.5 in ./.venv/lib/python3.9/site-packages (from -r requirements.txt (line 78)) (4.66.5)\n",
      "Requirement already satisfied: traitlets==5.14.3 in ./.venv/lib/python3.9/site-packages (from -r requirements.txt (line 79)) (5.14.3)\n",
      "Requirement already satisfied: transformers==4.45.2 in ./.venv/lib/python3.9/site-packages (from -r requirements.txt (line 80)) (4.45.2)\n",
      "Requirement already satisfied: typing_extensions==4.12.2 in ./.venv/lib/python3.9/site-packages (from -r requirements.txt (line 81)) (4.12.2)\n",
      "Requirement already satisfied: tzdata==2024.2 in ./.venv/lib/python3.9/site-packages (from -r requirements.txt (line 82)) (2024.2)\n",
      "Requirement already satisfied: urllib3==2.2.3 in ./.venv/lib/python3.9/site-packages (from -r requirements.txt (line 83)) (2.2.3)\n",
      "Requirement already satisfied: wcwidth==0.2.13 in ./.venv/lib/python3.9/site-packages (from -r requirements.txt (line 84)) (0.2.13)\n",
      "Requirement already satisfied: xxhash==3.5.0 in ./.venv/lib/python3.9/site-packages (from -r requirements.txt (line 85)) (3.5.0)\n",
      "Requirement already satisfied: yarl==1.14.0 in ./.venv/lib/python3.9/site-packages (from -r requirements.txt (line 86)) (1.14.0)\n",
      "Requirement already satisfied: zipp==3.20.2 in ./.venv/lib/python3.9/site-packages (from -r requirements.txt (line 87)) (3.20.2)\n",
      "Note: you may need to restart the kernel to use updated packages.\n"
     ]
    }
   ],
   "source": [
    "# Installs the requirements from the requirements file\n",
    "%pip install -r requirements.txt;"
   ]
  }
 ],
 "metadata": {
  "kernelspec": {
   "display_name": ".venv",
   "language": "python",
   "name": "python3"
  },
  "language_info": {
   "codemirror_mode": {
    "name": "ipython",
    "version": 3
   },
   "file_extension": ".py",
   "mimetype": "text/x-python",
   "name": "python",
   "nbconvert_exporter": "python",
   "pygments_lexer": "ipython3",
   "version": "3.9.6"
  }
 },
 "nbformat": 4,
 "nbformat_minor": 2
}
