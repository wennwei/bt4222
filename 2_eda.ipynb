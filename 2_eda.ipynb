{
 "cells": [
  {
   "cell_type": "markdown",
   "metadata": {},
   "source": [
    "# BT4222 Project: Twitter Bot Detection\n",
    "By:\n",
    "1. Cheong Wen Wei, A0233582E\n",
    "2. Lee Jun Wei, A0230329M\n",
    "3. Eldrick Sim Yen Kin, A0230114A\n",
    "4. Pwint Thiri Ko, A0239168U"
   ]
  },
  {
   "cell_type": "markdown",
   "metadata": {},
   "source": [
    "## Read Data\n",
    "* Data Cleaning, Imputation, etc..\n",
    "* Train Test split (based on account creation date)\n",
    "* 2006-2017 used to train,test validate model\n",
    "* 2018-2019, out of sample testing, to test how well model performs with more recent data"
   ]
  },
  {
   "cell_type": "code",
   "execution_count": 2,
   "metadata": {},
   "outputs": [
    {
     "name": "stderr",
     "output_type": "stream",
     "text": [
      "C:\\Users\\USER\\AppData\\Roaming\\Python\\Python310\\site-packages\\scipy\\__init__.py:146: UserWarning: A NumPy version >=1.17.3 and <1.25.0 is required for this version of SciPy (detected version 1.26.4\n",
      "  warnings.warn(f\"A NumPy version >={np_minversion} and <{np_maxversion}\"\n"
     ]
    }
   ],
   "source": [
    "# Import Libraries and Data\n",
    "import pandas as pd\n",
    "from sklearn.model_selection import train_test_split\n",
    "import sklearn\n",
    "import scorecardpy as sc\n",
    "import matplotlib.pyplot as plt\n",
    "import seaborn as sns\n",
    "import warnings \n",
    "import re\n",
    "from datetime import datetime\n",
    "\n",
    "warnings.simplefilter(action='ignore', category=FutureWarning)\n",
    "\n",
    "df = pd.read_csv(\"source data/twitter_human_bots_dataset.csv\",index_col=0)"
   ]
  },
  {
   "cell_type": "markdown",
   "metadata": {},
   "source": [
    "### Provided Features\n",
    "* created_at: timestamp\n",
    "    * Day account was created\n",
    "\n",
    "* default_profile: Boolean\n",
    "    * Indicating whether the account has a default profile\n",
    "\n",
    "* default_profile_image: Boolean\n",
    "    * Indicating whether the account has a default image profile\n",
    "\n",
    "* description: String\n",
    "    * User account description\n",
    "\n",
    "* favourites_count: Int\n",
    "    * Total number of favourite tweets\n",
    "\n",
    "* followers_count: Int\n",
    "    * Total number of followers\n",
    "\n",
    "* friend_count: Int\n",
    "    * Total number of friends (people who follow back)\n",
    "\n",
    "* geo_enabled: Boolean\n",
    "    * Indicating whether the account has the geographic location enabled\n",
    "\n",
    "* id: string\n",
    "    * unique identifier of the account\n",
    "\n",
    "* lang: string\n",
    "    * Language of the account\n",
    "\n",
    "* location: \n",
    "    * Location of the account\n",
    "\n",
    "* profile_background: string\n",
    "    * Profile background image url\n",
    "\n",
    "* profile_image_url: String\n",
    "    * Profile image URL\n",
    "\n",
    "* screen_name: string\n",
    "    * username\n",
    "\n",
    "* statuses_count: int\n",
    "    * Total number of tweets\n",
    "\n",
    "* verified: Boolean\n",
    "    * Indicating whether the account has been verified\n",
    "\n",
    "* average_tweets_per_day: int\n",
    "    * Average tweets posted per day (statuses_count / account_age_day)\n",
    "\n",
    "* account_age_day: int\n",
    "    * Account age measured in days\n",
    "\n",
    "* account_type: binary\n",
    "    * account type, bot or human"
   ]
  },
  {
   "cell_type": "markdown",
   "metadata": {},
   "source": [
    "## Exploratory Data Analysis"
   ]
  },
  {
   "cell_type": "code",
   "execution_count": 3,
   "metadata": {},
   "outputs": [
    {
     "data": {
      "text/html": [
       "<div>\n",
       "<style scoped>\n",
       "    .dataframe tbody tr th:only-of-type {\n",
       "        vertical-align: middle;\n",
       "    }\n",
       "\n",
       "    .dataframe tbody tr th {\n",
       "        vertical-align: top;\n",
       "    }\n",
       "\n",
       "    .dataframe thead th {\n",
       "        text-align: right;\n",
       "    }\n",
       "</style>\n",
       "<table border=\"1\" class=\"dataframe\">\n",
       "  <thead>\n",
       "    <tr style=\"text-align: right;\">\n",
       "      <th></th>\n",
       "      <th>created_at</th>\n",
       "      <th>default_profile</th>\n",
       "      <th>default_profile_image</th>\n",
       "      <th>description</th>\n",
       "      <th>favourites_count</th>\n",
       "      <th>followers_count</th>\n",
       "      <th>friends_count</th>\n",
       "      <th>geo_enabled</th>\n",
       "      <th>id</th>\n",
       "      <th>lang</th>\n",
       "      <th>location</th>\n",
       "      <th>profile_background_image_url</th>\n",
       "      <th>profile_image_url</th>\n",
       "      <th>screen_name</th>\n",
       "      <th>statuses_count</th>\n",
       "      <th>verified</th>\n",
       "      <th>average_tweets_per_day</th>\n",
       "      <th>account_age_days</th>\n",
       "      <th>account_type</th>\n",
       "    </tr>\n",
       "  </thead>\n",
       "  <tbody>\n",
       "    <tr>\n",
       "      <th>0</th>\n",
       "      <td>2016-10-15 21:32:11</td>\n",
       "      <td>False</td>\n",
       "      <td>False</td>\n",
       "      <td>Blame @xaiax, Inspired by @MakingInvisible, us...</td>\n",
       "      <td>4</td>\n",
       "      <td>1589</td>\n",
       "      <td>4</td>\n",
       "      <td>False</td>\n",
       "      <td>787405734442958848</td>\n",
       "      <td>en</td>\n",
       "      <td>unknown</td>\n",
       "      <td>http://abs.twimg.com/images/themes/theme1/bg.png</td>\n",
       "      <td>http://pbs.twimg.com/profile_images/7874121826...</td>\n",
       "      <td>best_in_dumbest</td>\n",
       "      <td>11041</td>\n",
       "      <td>False</td>\n",
       "      <td>7.870</td>\n",
       "      <td>1403</td>\n",
       "      <td>bot</td>\n",
       "    </tr>\n",
       "    <tr>\n",
       "      <th>1</th>\n",
       "      <td>2016-11-09 05:01:30</td>\n",
       "      <td>False</td>\n",
       "      <td>False</td>\n",
       "      <td>Photographing the American West since 1980. I ...</td>\n",
       "      <td>536</td>\n",
       "      <td>860</td>\n",
       "      <td>880</td>\n",
       "      <td>False</td>\n",
       "      <td>796216118331310080</td>\n",
       "      <td>en</td>\n",
       "      <td>Estados Unidos</td>\n",
       "      <td>http://abs.twimg.com/images/themes/theme1/bg.png</td>\n",
       "      <td>http://pbs.twimg.com/profile_images/8023296328...</td>\n",
       "      <td>CJRubinPhoto</td>\n",
       "      <td>252</td>\n",
       "      <td>False</td>\n",
       "      <td>0.183</td>\n",
       "      <td>1379</td>\n",
       "      <td>human</td>\n",
       "    </tr>\n",
       "    <tr>\n",
       "      <th>2</th>\n",
       "      <td>2017-06-17 05:34:27</td>\n",
       "      <td>False</td>\n",
       "      <td>False</td>\n",
       "      <td>Scruffy looking nerf herder and @twitch broadc...</td>\n",
       "      <td>3307</td>\n",
       "      <td>172</td>\n",
       "      <td>594</td>\n",
       "      <td>True</td>\n",
       "      <td>875949740503859204</td>\n",
       "      <td>en</td>\n",
       "      <td>Los Angeles, CA</td>\n",
       "      <td>http://abs.twimg.com/images/themes/theme1/bg.png</td>\n",
       "      <td>http://pbs.twimg.com/profile_images/1278890453...</td>\n",
       "      <td>SVGEGENT</td>\n",
       "      <td>1001</td>\n",
       "      <td>False</td>\n",
       "      <td>0.864</td>\n",
       "      <td>1159</td>\n",
       "      <td>human</td>\n",
       "    </tr>\n",
       "    <tr>\n",
       "      <th>3</th>\n",
       "      <td>2016-07-21 13:32:25</td>\n",
       "      <td>True</td>\n",
       "      <td>False</td>\n",
       "      <td>Wife.Godmother.Friend.Feline Fanatic! Assistan...</td>\n",
       "      <td>8433</td>\n",
       "      <td>517</td>\n",
       "      <td>633</td>\n",
       "      <td>True</td>\n",
       "      <td>756119643622735875</td>\n",
       "      <td>en</td>\n",
       "      <td>Birmingham, AL</td>\n",
       "      <td>NaN</td>\n",
       "      <td>http://pbs.twimg.com/profile_images/1284884924...</td>\n",
       "      <td>TinkerVHELPK5</td>\n",
       "      <td>1324</td>\n",
       "      <td>False</td>\n",
       "      <td>0.889</td>\n",
       "      <td>1489</td>\n",
       "      <td>human</td>\n",
       "    </tr>\n",
       "    <tr>\n",
       "      <th>4</th>\n",
       "      <td>2012-01-15 16:32:35</td>\n",
       "      <td>False</td>\n",
       "      <td>False</td>\n",
       "      <td>Loan coach at @mancity &amp; Aspiring DJ</td>\n",
       "      <td>88</td>\n",
       "      <td>753678</td>\n",
       "      <td>116</td>\n",
       "      <td>True</td>\n",
       "      <td>464781334</td>\n",
       "      <td>en</td>\n",
       "      <td>England, United Kingdom</td>\n",
       "      <td>http://abs.twimg.com/images/themes/theme1/bg.png</td>\n",
       "      <td>http://pbs.twimg.com/profile_images/9952566258...</td>\n",
       "      <td>JoleonLescott</td>\n",
       "      <td>4202</td>\n",
       "      <td>True</td>\n",
       "      <td>1.339</td>\n",
       "      <td>3138</td>\n",
       "      <td>human</td>\n",
       "    </tr>\n",
       "  </tbody>\n",
       "</table>\n",
       "</div>"
      ],
      "text/plain": [
       "            created_at  default_profile  default_profile_image  \\\n",
       "0  2016-10-15 21:32:11            False                  False   \n",
       "1  2016-11-09 05:01:30            False                  False   \n",
       "2  2017-06-17 05:34:27            False                  False   \n",
       "3  2016-07-21 13:32:25             True                  False   \n",
       "4  2012-01-15 16:32:35            False                  False   \n",
       "\n",
       "                                         description  favourites_count  \\\n",
       "0  Blame @xaiax, Inspired by @MakingInvisible, us...                 4   \n",
       "1  Photographing the American West since 1980. I ...               536   \n",
       "2  Scruffy looking nerf herder and @twitch broadc...              3307   \n",
       "3  Wife.Godmother.Friend.Feline Fanatic! Assistan...              8433   \n",
       "4               Loan coach at @mancity & Aspiring DJ                88   \n",
       "\n",
       "   followers_count  friends_count  geo_enabled                  id lang  \\\n",
       "0             1589              4        False  787405734442958848   en   \n",
       "1              860            880        False  796216118331310080   en   \n",
       "2              172            594         True  875949740503859204   en   \n",
       "3              517            633         True  756119643622735875   en   \n",
       "4           753678            116         True           464781334   en   \n",
       "\n",
       "                  location                      profile_background_image_url  \\\n",
       "0                  unknown  http://abs.twimg.com/images/themes/theme1/bg.png   \n",
       "1           Estados Unidos  http://abs.twimg.com/images/themes/theme1/bg.png   \n",
       "2          Los Angeles, CA  http://abs.twimg.com/images/themes/theme1/bg.png   \n",
       "3           Birmingham, AL                                               NaN   \n",
       "4  England, United Kingdom  http://abs.twimg.com/images/themes/theme1/bg.png   \n",
       "\n",
       "                                   profile_image_url      screen_name  \\\n",
       "0  http://pbs.twimg.com/profile_images/7874121826...  best_in_dumbest   \n",
       "1  http://pbs.twimg.com/profile_images/8023296328...     CJRubinPhoto   \n",
       "2  http://pbs.twimg.com/profile_images/1278890453...         SVGEGENT   \n",
       "3  http://pbs.twimg.com/profile_images/1284884924...    TinkerVHELPK5   \n",
       "4  http://pbs.twimg.com/profile_images/9952566258...    JoleonLescott   \n",
       "\n",
       "   statuses_count  verified  average_tweets_per_day  account_age_days  \\\n",
       "0           11041     False                   7.870              1403   \n",
       "1             252     False                   0.183              1379   \n",
       "2            1001     False                   0.864              1159   \n",
       "3            1324     False                   0.889              1489   \n",
       "4            4202      True                   1.339              3138   \n",
       "\n",
       "  account_type  \n",
       "0          bot  \n",
       "1        human  \n",
       "2        human  \n",
       "3        human  \n",
       "4        human  "
      ]
     },
     "execution_count": 3,
     "metadata": {},
     "output_type": "execute_result"
    }
   ],
   "source": [
    "df.head()"
   ]
  },
  {
   "cell_type": "code",
   "execution_count": 4,
   "metadata": {},
   "outputs": [
    {
     "data": {
      "text/plain": [
       "Index(['created_at', 'default_profile', 'default_profile_image', 'description',\n",
       "       'favourites_count', 'followers_count', 'friends_count', 'geo_enabled',\n",
       "       'id', 'lang', 'location', 'profile_background_image_url',\n",
       "       'profile_image_url', 'screen_name', 'statuses_count', 'verified',\n",
       "       'average_tweets_per_day', 'account_age_days', 'account_type'],\n",
       "      dtype='object')"
      ]
     },
     "execution_count": 4,
     "metadata": {},
     "output_type": "execute_result"
    }
   ],
   "source": [
    "df.columns"
   ]
  },
  {
   "cell_type": "code",
   "execution_count": 5,
   "metadata": {},
   "outputs": [
    {
     "name": "stdout",
     "output_type": "stream",
     "text": [
      "Missing values: \n",
      "created_at                         0\n",
      "default_profile                    0\n",
      "default_profile_image              0\n",
      "description                     7257\n",
      "favourites_count                   0\n",
      "followers_count                    0\n",
      "friends_count                      0\n",
      "geo_enabled                        0\n",
      "id                                 0\n",
      "lang                            7957\n",
      "location                           4\n",
      "profile_background_image_url    4499\n",
      "profile_image_url                  1\n",
      "screen_name                        0\n",
      "statuses_count                     0\n",
      "verified                           0\n",
      "average_tweets_per_day             0\n",
      "account_age_days                   0\n",
      "account_type                       0\n",
      "dtype: int64\n"
     ]
    }
   ],
   "source": [
    "print(f\"Missing values: \\n{df.isnull().sum()}\")"
   ]
  },
  {
   "cell_type": "code",
   "execution_count": 6,
   "metadata": {},
   "outputs": [
    {
     "name": "stdout",
     "output_type": "stream",
     "text": [
      "Shape: (37438, 19)\n",
      "\n",
      "Column types: \n",
      "created_at                       object\n",
      "default_profile                    bool\n",
      "default_profile_image              bool\n",
      "description                      object\n",
      "favourites_count                  int64\n",
      "followers_count                   int64\n",
      "friends_count                     int64\n",
      "geo_enabled                        bool\n",
      "id                                int64\n",
      "lang                             object\n",
      "location                         object\n",
      "profile_background_image_url     object\n",
      "profile_image_url                object\n",
      "screen_name                      object\n",
      "statuses_count                    int64\n",
      "verified                           bool\n",
      "average_tweets_per_day          float64\n",
      "account_age_days                  int64\n",
      "account_type                     object\n",
      "dtype: object\n"
     ]
    }
   ],
   "source": [
    "print(f\"Shape: {df.shape}\\n\")\n",
    "print(f\"Column types: \\n{df.dtypes}\")"
   ]
  },
  {
   "cell_type": "markdown",
   "metadata": {},
   "source": [
    "### Distributions of non numerical columns"
   ]
  },
  {
   "cell_type": "code",
   "execution_count": 7,
   "metadata": {},
   "outputs": [
    {
     "name": "stdout",
     "output_type": "stream",
     "text": [
      "Account type distribution: \n",
      "account_type\n",
      "human    25013\n",
      "bot      12425\n",
      "Name: count, dtype: int64\n"
     ]
    }
   ],
   "source": [
    "print(f\"Account type distribution: \\n{df['account_type'].value_counts()}\")"
   ]
  },
  {
   "cell_type": "code",
   "execution_count": 8,
   "metadata": {},
   "outputs": [
    {
     "name": "stdout",
     "output_type": "stream",
     "text": [
      "column distribution by Account Type: \n",
      "account_type  geo_enabled\n",
      "bot           False           9709\n",
      "              True            2716\n",
      "human         True           14361\n",
      "              False          10652\n",
      "Name: count, dtype: int64\n",
      "\n",
      "column distribution by Account Type: \n",
      "account_type  verified\n",
      "bot           False       12109\n",
      "              True          316\n",
      "human         False       17778\n",
      "              True         7235\n",
      "Name: count, dtype: int64\n",
      "\n",
      "column distribution by Account Type: \n",
      "account_type  default_profile\n",
      "bot           True                7741\n",
      "              False               4684\n",
      "human         False              17034\n",
      "              True                7979\n",
      "Name: count, dtype: int64\n",
      "\n",
      "column distribution by Account Type: \n",
      "account_type  default_profile_image\n",
      "bot           False                    12042\n",
      "              True                       383\n",
      "human         False                    24838\n",
      "              True                       175\n",
      "Name: count, dtype: int64\n",
      "\n"
     ]
    }
   ],
   "source": [
    "columns = ['geo_enabled', 'verified', 'default_profile', 'default_profile_image']\n",
    "for column in columns:\n",
    "    print(f\"{'column'} distribution by Account Type: \\n{df.groupby('account_type')[column].value_counts()}\\n\")"
   ]
  },
  {
   "cell_type": "markdown",
   "metadata": {},
   "source": [
    "#### Distribution of lang"
   ]
  },
  {
   "cell_type": "code",
   "execution_count": 9,
   "metadata": {},
   "outputs": [
    {
     "name": "stdout",
     "output_type": "stream",
     "text": [
      "lang distribution by Account Type: \n",
      "account_type  lang \n",
      "bot           en       5238\n",
      "              ar        378\n",
      "              es        287\n",
      "              af        214\n",
      "              pt        206\n",
      "                       ... \n",
      "human         fa          4\n",
      "              ur          4\n",
      "              he          2\n",
      "              ne          2\n",
      "              zh-tw       1\n",
      "Name: count, Length: 92, dtype: int64\n",
      "\n",
      "Unique lang: 48\n",
      "\n",
      "Values in lang column: \n",
      "lang\n",
      "en    21450\n",
      "es     1213\n",
      "pt      704\n",
      "it      637\n",
      "ar      594\n",
      "de      536\n",
      "ja      378\n",
      "fr      375\n",
      "af      333\n",
      "id      313\n",
      "Name: count, dtype: int64\n",
      "lang\n",
      "en    5238\n",
      "ar     378\n",
      "es     287\n",
      "af     214\n",
      "pt     206\n",
      "Name: count, dtype: int64\n"
     ]
    }
   ],
   "source": [
    "print(f\"{'lang'} distribution by Account Type: \\n{df.groupby('account_type')['lang'].value_counts()}\\n\")\n",
    "\n",
    "print(f\"Unique lang: {df['lang'].nunique()}\\n\")\n",
    "print(f\"Values in lang column: \\n{df['lang'].value_counts().head(10)}\")\n",
    "# en appears to be the most common location\n",
    "print(df.loc[df['account_type'] == 'bot', 'lang'].value_counts().head())\n",
    "# Note that en appears most in the bot category"
   ]
  },
  {
   "cell_type": "markdown",
   "metadata": {},
   "source": [
    "#### Distribution of location"
   ]
  },
  {
   "cell_type": "code",
   "execution_count": 10,
   "metadata": {},
   "outputs": [
    {
     "name": "stdout",
     "output_type": "stream",
     "text": [
      "location distribution by Account Type: \n",
      "account_type  location                 \n",
      "bot           unknown                      6254\n",
      "              Los Angeles, CA                39\n",
      "              New York, NY                   39\n",
      "              United States                  37\n",
      "              Brasil                         33\n",
      "                                           ... \n",
      "human         🤙약속🧸🧸Winter Bear 👬Friends       1\n",
      "              🤱🏼                              1\n",
      "              🥀𝐦　🌏𝐮　🐯𝐦　🍹d                     1\n",
      "              🦒🦒🦒🦒                            1\n",
      "              🪐                               1\n",
      "Name: count, Length: 12998, dtype: int64\n",
      "\n",
      "Unique locations: 12049\n",
      "\n",
      "Values in location column: \n",
      "location\n",
      "unknown            13023\n",
      "Los Angeles, CA      524\n",
      "New York, NY         339\n",
      "United States        239\n",
      "Washington, DC       224\n",
      "Los Angeles          224\n",
      "New York             151\n",
      "Chicago, IL          142\n",
      "London               142\n",
      "California, USA      138\n",
      "Name: count, dtype: int64\n",
      "location\n",
      "unknown            6254\n",
      "Los Angeles, CA      39\n",
      "New York, NY         39\n",
      "United States        37\n",
      "Brasil               33\n",
      "Name: count, dtype: int64\n"
     ]
    }
   ],
   "source": [
    "print(f\"{'location'} distribution by Account Type: \\n{df.groupby('account_type')['location'].value_counts()}\\n\")\n",
    "\n",
    "print(f\"Unique locations: {df['location'].nunique()}\\n\")\n",
    "print(f\"Values in location column: \\n{df['location'].value_counts().head(10)}\")\n",
    "# Unknown appears to be the most common location\n",
    "print(df.loc[df['account_type'] == 'bot', 'location'].value_counts().head())\n",
    "# Note that unknown appears most in the bot category"
   ]
  },
  {
   "cell_type": "markdown",
   "metadata": {},
   "source": [
    "### Distribution of numerical columns"
   ]
  },
  {
   "cell_type": "code",
   "execution_count": 11,
   "metadata": {},
   "outputs": [
    {
     "name": "stdout",
     "output_type": "stream",
     "text": [
      "Statistical details: \n",
      "       favourites_count  followers_count  friends_count            id  \\\n",
      "count      37438.000000     3.743800e+04   3.743800e+04  3.743800e+04   \n",
      "mean       12302.062183     3.703098e+05   4.445925e+03  1.221536e+17   \n",
      "std        33923.650237     2.470829e+06   4.954520e+04  3.004313e+17   \n",
      "min            0.000000     0.000000e+00   0.000000e+00  4.180000e+02   \n",
      "25%          362.000000     3.500000e+01   3.700000e+01  9.957306e+07   \n",
      "50%         2066.000000     3.650000e+02   2.960000e+02  3.991474e+08   \n",
      "75%         8879.000000     8.440250e+03   8.930000e+02  2.453826e+09   \n",
      "max       885123.000000     1.216415e+08   4.343060e+06  1.120974e+18   \n",
      "\n",
      "       statuses_count  average_tweets_per_day  account_age_days  \n",
      "count    3.743800e+04            37438.000000      37438.000000  \n",
      "mean     2.107339e+04                6.891668       3022.128052  \n",
      "std      6.732977e+04               24.580116       1013.695870  \n",
      "min      0.000000e+00                0.000000        483.000000  \n",
      "25%      1.336250e+03                0.495000       2316.250000  \n",
      "50%      4.209000e+03                1.488000       3219.000000  \n",
      "75%      1.715375e+04                5.528000       3888.000000  \n",
      "max      2.771910e+06             1269.055000       5158.000000  \n"
     ]
    }
   ],
   "source": [
    "print(f\"Statistical details: \\n{df.describe()}\")"
   ]
  },
  {
   "cell_type": "code",
   "execution_count": 12,
   "metadata": {},
   "outputs": [
    {
     "name": "stdout",
     "output_type": "stream",
     "text": [
      "Duplicated rows: 0\n"
     ]
    }
   ],
   "source": [
    "print(f\"Duplicated rows: {df.duplicated().sum()}\")"
   ]
  },
  {
   "cell_type": "markdown",
   "metadata": {},
   "source": [
    "### Distribution of Accounts with 0 friends"
   ]
  },
  {
   "cell_type": "code",
   "execution_count": 17,
   "metadata": {},
   "outputs": [
    {
     "data": {
      "image/png": "[encoded data removed]",
      "text/plain": [
       "<Figure size 576x432 with 1 Axes>"
      ]
     },
     "metadata": {
      "needs_background": "light"
     },
     "output_type": "display_data"
    }
   ],
   "source": [
    "# Filter accounts with 0 friends\n",
    "zero_friends_df = df[df['friends_count'] == 0]\n",
    "\n",
    "# Group by account type and count\n",
    "account_type_counts = zero_friends_df['account_type'].value_counts()\n",
    "\n",
    "# Plot\n",
    "plt.figure(figsize=(8, 6))\n",
    "account_type_counts.plot(kind='bar', color=['skyblue', 'salmon'])\n",
    "plt.title(\"Number of Accounts with 0 Friends by Account Type\")\n",
    "plt.xlabel(\"Account Type\")\n",
    "plt.ylabel(\"Count of Accounts with 0 Friends\")\n",
    "plt.xticks(rotation=0)\n",
    "plt.show()"
   ]
  },
  {
   "cell_type": "markdown",
   "metadata": {},
   "source": [
    "### Distribution of Accounts with 0 followers"
   ]
  },
  {
   "cell_type": "code",
   "execution_count": 13,
   "metadata": {},
   "outputs": [
    {
     "data": {
      "image/png": "[encoded data removed]",
      "text/plain": [
       "<Figure size 576x432 with 1 Axes>"
      ]
     },
     "metadata": {
      "needs_background": "light"
     },
     "output_type": "display_data"
    }
   ],
   "source": [
    "# Filter accounts with exactly 0 followers\n",
    "nine_followers_df = df[df['followers_count'] == 0]\n",
    "\n",
    "# Group by account type and count\n",
    "account_type_counts = nine_followers_df['account_type'].value_counts()\n",
    "\n",
    "# Plot\n",
    "plt.figure(figsize=(8, 6))\n",
    "account_type_counts.plot(kind='bar', color=['skyblue', 'salmon'])\n",
    "plt.title(\"Number of Accounts with 0 Followers by Account Type\")\n",
    "plt.xlabel(\"Account Type\")\n",
    "plt.ylabel(\"Count of Accounts with 0 Followers\")\n",
    "plt.xticks(rotation=0)\n",
    "plt.show()"
   ]
  },
  {
   "cell_type": "markdown",
   "metadata": {},
   "source": [
    "#### Outlier checking"
   ]
  },
  {
   "cell_type": "code",
   "execution_count": 14,
   "metadata": {},
   "outputs": [
    {
     "data": {
      "image/png": "[encoded data removed]",
      "text/plain": [
       "<Figure size 864x576 with 6 Axes>"
      ]
     },
     "metadata": {
      "needs_background": "light"
     },
     "output_type": "display_data"
    }
   ],
   "source": [
    "# Define the columns to include in the grid\n",
    "num_columns = ['favourites_count', 'followers_count', 'friends_count', 'statuses_count', 'average_tweets_per_day', 'account_age_days']\n",
    "\n",
    "# Create a grid of boxplots\n",
    "fig, axes = plt.subplots(nrows=2, ncols=3, figsize=(12, 8))\n",
    "\n",
    "# Iterate over the columns and plot the boxplot in the corresponding axis\n",
    "for i, column in enumerate(num_columns):\n",
    "    ax = axes[i // 3, i % 3]\n",
    "    df.boxplot(column=column, ax=ax, by='account_type')\n",
    "    ax.set_title(column)\n",
    "\n",
    "# Adjust the layout and display the plot\n",
    "plt.tight_layout()\n",
    "plt.show()"
   ]
  },
  {
   "cell_type": "code",
   "execution_count": 15,
   "metadata": {},
   "outputs": [
    {
     "data": {
      "image/png": "[encoded data removed]",
      "text/plain": [
       "<Figure size 432x288 with 1 Axes>"
      ]
     },
     "metadata": {
      "needs_background": "light"
     },
     "output_type": "display_data"
    }
   ],
   "source": [
    "# Calculate Q1 (25th percentile) and Q3 (75th percentile)\n",
    "Q1 = df['followers_count'].quantile(0.25)\n",
    "Q3 = df['followers_count'].quantile(0.75)\n",
    "\n",
    "# Calculate IQR\n",
    "IQR = Q3 - Q1\n",
    "\n",
    "# Determine the lower and upper bounds\n",
    "lower_bound = Q1 - 1.5 * IQR\n",
    "upper_bound = Q3 + 1.5 * IQR\n",
    "\n",
    "# Filter out the outliers\n",
    "filtered_df = df[(df[\"followers_count\"] >= lower_bound) & (df[\"followers_count\"] <= upper_bound)]\n",
    "\n",
    "# Plot boxplot again\n",
    "filtered_df.boxplot(column='followers_count', by='account_type')\n",
    "plt.show()"
   ]
  },
  {
   "cell_type": "code",
   "execution_count": 16,
   "metadata": {},
   "outputs": [
    {
     "data": {
      "image/png": "[encoded data removed]",
      "text/plain": [
       "<Figure size 432x288 with 1 Axes>"
      ]
     },
     "metadata": {
      "needs_background": "light"
     },
     "output_type": "display_data"
    }
   ],
   "source": [
    "colors = {'bot': 'red', 'human': 'blue'}\n",
    "df.plot.scatter(x='statuses_count', y='followers_count', c=df['account_type'].map(colors))\n",
    "plt.show()"
   ]
  }
 ],
 "metadata": {
  "kernelspec": {
   "display_name": "Python 3",
   "language": "python",
   "name": "python3"
  },
  "language_info": {
   "codemirror_mode": {
    "name": "ipython",
    "version": 3
   },
   "file_extension": ".py",
   "mimetype": "text/x-python",
   "name": "python",
   "nbconvert_exporter": "python",
   "pygments_lexer": "ipython3",
   "version": "3.10.4"
  }
 },
 "nbformat": 4,
 "nbformat_minor": 2
}
