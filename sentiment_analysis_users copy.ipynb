{
 "cells": [
  {
   "cell_type": "code",
   "execution_count": 34,
   "metadata": {},
   "outputs": [],
   "source": [
    "# Import Libraries\n",
    "import pandas as pd\n",
    "import numpy as np\n",
    "import torch\n",
    "from datasets import Dataset\n",
    "import warnings\n",
    "import re\n",
    "import string\n",
    "from ftfy import fix_text\n",
    "from langdetect import detect, LangDetectException\n",
    "from sklearn.utils.class_weight import compute_class_weight\n",
    "from sklearn.model_selection import StratifiedShuffleSplit\n",
    "import torch.nn.functional as F\n",
    "from transformers import get_linear_schedule_with_warmup\n",
    "\n",
    "from transformers import AutoTokenizer\n",
    "from datasets import Dataset, DatasetDict\n",
    "from torch.utils.data import DataLoader\n",
    "from torch import nn\n",
    "from torch.optim import AdamW\n",
    "from tqdm.auto import tqdm\n",
    "from sklearn.metrics import (accuracy_score, precision_score, recall_score,\n",
    "                             f1_score, \n",
    "                             confusion_matrix, classification_report)\n",
    "import matplotlib.pyplot as plt\n",
    "import seaborn as sns\n",
    "import random\n",
    "\n",
    "# Ignore Warnings\n",
    "warnings.simplefilter(action='ignore', category=FutureWarning)\n",
    "\n",
    "def set_seed(seed):\n",
    "    random.seed(seed)\n",
    "    np.random.seed(seed)\n",
    "    torch.manual_seed(seed)\n",
    "    torch.cuda.manual_seed(seed)\n",
    "    torch.backends.cudnn.deterministic = True\n",
    "    torch.backends.cudnn.benchmark = False\n",
    "\n",
    "set_seed(42)"
   ]
  },
  {
   "cell_type": "code",
   "execution_count": 35,
   "metadata": {},
   "outputs": [
    {
     "name": "stdout",
     "output_type": "stream",
     "text": [
      "GPU is available\n"
     ]
    }
   ],
   "source": [
    "# Check cuda status\n",
    "is_cuda = torch.cuda.is_available()\n",
    "\n",
    "if is_cuda:\n",
    "    device = torch.device(\"cuda\")\n",
    "    print(\"GPU is available\")\n",
    "else:\n",
    "    device = torch.device(\"cpu\")\n",
    "    print(\"GPU not available, CPU used\")"
   ]
  },
  {
   "cell_type": "markdown",
   "metadata": {},
   "source": [
    "## Data Loading and Preparation"
   ]
  },
  {
   "cell_type": "markdown",
   "metadata": {},
   "source": [
    "### Prepare dataset"
   ]
  },
  {
   "cell_type": "code",
   "execution_count": 36,
   "metadata": {},
   "outputs": [],
   "source": [
    "# Load data from CSV files\n",
    "df = pd.read_csv('source data/scraped_tweets.csv')\n",
    "df_main = pd.read_csv(\"cleaned data/cleaned_data_split.csv\", index_col=0)\n",
    "df_main['Handle'] = '@' + df_main['screen_name']\n",
    "\n",
    "# Merge datasets on Twitter handle\n",
    "result = df.merge(df_main, on='Handle', how='inner')\n",
    "\n",
    "# Remove duplicates based on unique identifier 'Handle'\n",
    "result = result.drop_duplicates(subset=['Handle'])\n",
    "\n",
    "# Replace NaN values in specific columns with 'NA'\n",
    "result.fillna({'Content': 'NA', 'description': 'NA'}, inplace=True)\n",
    "\n",
    "# Fix text encoding issues in 'Content' and 'description' columns\n",
    "result['Content'] = result['Content'].apply(fix_text)\n",
    "result['description'] = result['description'].apply(fix_text)\n"
   ]
  },
  {
   "cell_type": "markdown",
   "metadata": {},
   "source": [
    "### Data Cleaning"
   ]
  },
  {
   "cell_type": "code",
   "execution_count": 37,
   "metadata": {},
   "outputs": [
    {
     "name": "stdout",
     "output_type": "stream",
     "text": [
      "Cleaned and filtered data (English-only for 'Content') has been saved as 'cleaned_data_content_english_only.csv'.\n"
     ]
    }
   ],
   "source": [
    "# Define language detection function to filter English-only content\n",
    "def is_english(text):\n",
    "    try:\n",
    "        return detect(text) == 'en'\n",
    "    except LangDetectException:\n",
    "        return False  # Mark as non-English if detection fails\n",
    "\n",
    "# Filter rows where 'Content' is in English only\n",
    "result_final = result[result['Content'].apply(is_english)]\n",
    "\n",
    "# Optional: Save cleaned and filtered data to a new CSV file\n",
    "# result_final.to_csv(\"cleaned_data_content_english_only.csv\", index=False, encoding='utf-8')\n",
    "\n",
    "print(\"Cleaned and filtered data (English-only for 'Content') has been saved as 'cleaned_data_content_english_only.csv'.\")"
   ]
  },
  {
   "cell_type": "code",
   "execution_count": 38,
   "metadata": {},
   "outputs": [
    {
     "name": "stderr",
     "output_type": "stream",
     "text": [
      "C:\\Users\\USER\\AppData\\Local\\Temp\\ipykernel_7048\\1234352611.py:9: SettingWithCopyWarning: \n",
      "A value is trying to be set on a copy of a slice from a DataFrame.\n",
      "Try using .loc[row_indexer,col_indexer] = value instead\n",
      "\n",
      "See the caveats in the documentation: https://pandas.pydata.org/pandas-docs/stable/user_guide/indexing.html#returning-a-view-versus-a-copy\n",
      "  result_final['cleaned_content'] = result_final['Content'].apply(clean_text)\n"
     ]
    }
   ],
   "source": [
    "# Text cleaning for Content column\n",
    "def clean_text(text):\n",
    "    text = re.sub(r'\\@\\w+|\\#', '', text)  # Remove mentions and hashtags\n",
    "    text = re.sub(r'\\s+', ' ', text).strip()  # Remove extra whitespace\n",
    "    text = text.lower()  # Convert to lowercase for uncased model\n",
    "    text = text.translate(str.maketrans('', '', string.punctuation))  # Optionally remove punctuation\n",
    "    return text\n",
    "\n",
    "result_final['cleaned_content'] = result_final['Content'].apply(clean_text)"
   ]
  },
  {
   "cell_type": "markdown",
   "metadata": {},
   "source": [
    "### Data Preprocessing and Stratified Splitting"
   ]
  },
  {
   "cell_type": "code",
   "execution_count": 39,
   "metadata": {},
   "outputs": [],
   "source": [
    "# Load pretrained BERT tokenizer for processing input text\n",
    "tokenizer = AutoTokenizer.from_pretrained(\"bert-base-uncased\")\n",
    "\n",
    "# Convert cleaned DataFrame to Hugging Face Dataset format\n",
    "result_final = result_final[['cleaned_content', 'account_type']].reset_index(drop=True)\n",
    "dataset = Dataset.from_pandas(result_final)\n",
    "\n",
    "# Convert Hugging Face Dataset back to pandas DataFrame for stratified split usage\n",
    "df = dataset.to_pandas()\n",
    "\n",
    "# Separate features and target label\n",
    "X = df.drop(columns=[\"account_type\"])\n",
    "y = df[\"account_type\"]\n",
    "\n",
    "# Perform first split: 60% training and 40% temporary set for further division\n",
    "sss = StratifiedShuffleSplit(n_splits=1, test_size=0.4, random_state=42)\n",
    "train_index, temp_index = next(sss.split(X, y))\n",
    "train_df = df.iloc[train_index]\n",
    "temp_df = df.iloc[temp_index]\n",
    "\n",
    "# Split temporary set: 50% validation and 50% test\n",
    "sss_temp = StratifiedShuffleSplit(n_splits=1, test_size=0.5, random_state=42)\n",
    "val_index, test_index = next(sss_temp.split(temp_df.drop(columns=[\"account_type\"]), temp_df[\"account_type\"]))\n",
    "val_df = temp_df.iloc[val_index]\n",
    "test_df = temp_df.iloc[test_index]\n",
    "\n",
    "# Convert DataFrames back to Hugging Face Dataset format for compatibility with transformers\n",
    "train_dataset = Dataset.from_pandas(train_df)\n",
    "val_dataset = Dataset.from_pandas(val_df)\n",
    "test_dataset = Dataset.from_pandas(test_df)\n"
   ]
  },
  {
   "cell_type": "code",
   "execution_count": 40,
   "metadata": {},
   "outputs": [
    {
     "name": "stdout",
     "output_type": "stream",
     "text": [
      "Max length of content is:  57\n"
     ]
    }
   ],
   "source": [
    "# Check max content length for padding\n",
    "content_length = result_final['cleaned_content'].apply(lambda x: len(str(x).split()))\n",
    "max_content_len = max(content_length)\n",
    "\n",
    "print(\"Max length of content is: \", max_content_len)"
   ]
  },
  {
   "cell_type": "markdown",
   "metadata": {},
   "source": [
    "### Tokenization"
   ]
  },
  {
   "cell_type": "code",
   "execution_count": 41,
   "metadata": {},
   "outputs": [
    {
     "data": {
      "application/vnd.jupyter.widget-view+json": {
       "model_id": "3a377fc900ea4dd9abaaf589b5951e3a",
       "version_major": 2,
       "version_minor": 0
      },
      "text/plain": [
       "Map:   0%|          | 0/1093 [00:00<?, ? examples/s]"
      ]
     },
     "metadata": {},
     "output_type": "display_data"
    },
    {
     "data": {
      "application/vnd.jupyter.widget-view+json": {
       "model_id": "fd6489e3c3c64059a64faa21225a3acf",
       "version_major": 2,
       "version_minor": 0
      },
      "text/plain": [
       "Map:   0%|          | 0/364 [00:00<?, ? examples/s]"
      ]
     },
     "metadata": {},
     "output_type": "display_data"
    },
    {
     "data": {
      "application/vnd.jupyter.widget-view+json": {
       "model_id": "b2a7a758d8394cd7ab8fd69fbd99a49f",
       "version_major": 2,
       "version_minor": 0
      },
      "text/plain": [
       "Map:   0%|          | 0/365 [00:00<?, ? examples/s]"
      ]
     },
     "metadata": {},
     "output_type": "display_data"
    },
    {
     "name": "stdout",
     "output_type": "stream",
     "text": [
      "DatasetDict({\n",
      "    train: Dataset({\n",
      "        features: ['labels', '__index_level_0__', 'input_ids', 'token_type_ids', 'attention_mask'],\n",
      "        num_rows: 1093\n",
      "    })\n",
      "    validation: Dataset({\n",
      "        features: ['labels', '__index_level_0__', 'input_ids', 'token_type_ids', 'attention_mask'],\n",
      "        num_rows: 364\n",
      "    })\n",
      "    test: Dataset({\n",
      "        features: ['labels', '__index_level_0__', 'input_ids', 'token_type_ids', 'attention_mask'],\n",
      "        num_rows: 365\n",
      "    })\n",
      "})\n"
     ]
    }
   ],
   "source": [
    "# Tokenization function\n",
    "def tokenize_function(examples):\n",
    "    return tokenizer(examples[\"cleaned_content\"], padding=\"max_length\", truncation=True, max_length=max_content_len)\n",
    "\n",
    "# Apply tokenization to training, validation, and test datasets\n",
    "tokenized_train = train_dataset.map(tokenize_function, batched=True)\n",
    "tokenized_val = val_dataset.map(tokenize_function, batched=True)\n",
    "tokenized_test = test_dataset.map(tokenize_function, batched=True)\n",
    "\n",
    "# Rename 'account_type' column to 'labels' to align with model's expected input format\n",
    "tokenized_train = tokenized_train.rename_column(\"account_type\", \"labels\")\n",
    "tokenized_val = tokenized_val.rename_column(\"account_type\", \"labels\")\n",
    "tokenized_test = tokenized_test.rename_column(\"account_type\", \"labels\")\n",
    "\n",
    "# Remove unnecessary columns (e.g., 'cleaned_content') from datasets\n",
    "tokenized_train = tokenized_train.remove_columns([\"cleaned_content\"])\n",
    "tokenized_val = tokenized_val.remove_columns([\"cleaned_content\"])\n",
    "tokenized_test = tokenized_test.remove_columns([\"cleaned_content\"])\n",
    "\n",
    "# Set data format for PyTorch model input with 'input_ids', 'attention_mask', and 'labels'\n",
    "tokenized_train.set_format(\"torch\", columns=[\"input_ids\", \"attention_mask\", \"labels\"])\n",
    "tokenized_val.set_format(\"torch\", columns=[\"input_ids\", \"attention_mask\", \"labels\"])\n",
    "tokenized_test.set_format(\"torch\", columns=[\"input_ids\", \"attention_mask\", \"labels\"])\n",
    "\n",
    "# Combine datasets into a DatasetDict for easy access during training and evaluation\n",
    "tokenized_datasets = DatasetDict({\n",
    "    \"train\": tokenized_train,\n",
    "    \"validation\": tokenized_val,\n",
    "    \"test\": tokenized_test\n",
    "})\n",
    "\n",
    "# Display structure of the final DatasetDict to confirm format\n",
    "print(tokenized_datasets)"
   ]
  },
  {
   "cell_type": "markdown",
   "metadata": {},
   "source": [
    "### Create DataLoader"
   ]
  },
  {
   "cell_type": "code",
   "execution_count": 42,
   "metadata": {},
   "outputs": [],
   "source": [
    "# Set batch size for data loading\n",
    "batch_size = 25\n",
    "\n",
    "# Create DataLoaders for training, validation, and test sets\n",
    "# DataLoaders handle batching and shuffling for efficient model training and evaluation\n",
    "train_dataloader = DataLoader(tokenized_train, shuffle=True, batch_size=batch_size)  # Shuffle for training\n",
    "val_dataloader = DataLoader(tokenized_val, batch_size=batch_size)  # No shuffle for validation\n",
    "test_dataloader = DataLoader(tokenized_test, batch_size=batch_size)  # No shuffle for testing\n"
   ]
  },
  {
   "cell_type": "markdown",
   "metadata": {},
   "source": [
    "## Model Structure"
   ]
  },
  {
   "cell_type": "markdown",
   "metadata": {},
   "source": [
    "### Define Model Architecture"
   ]
  },
  {
   "cell_type": "code",
   "execution_count": 43,
   "metadata": {},
   "outputs": [],
   "source": [
    "from transformers import AutoModelForSequenceClassification\n",
    "\n",
    "class Model(nn.Module):\n",
    "    def __init__(self, output_dim, dropout_rate):\n",
    "        super(Model, self).__init__()\n",
    "        \n",
    "        # Initialize BERT encoder with output hidden states for further processing\n",
    "        self.encoder = AutoModelForSequenceClassification.from_pretrained(\n",
    "            \"bert-base-uncased\", output_hidden_states=True, return_dict=True\n",
    "        )\n",
    "        \n",
    "        # Additional layers: dropout, layer normalization, and custom classifier\n",
    "        self.dropout = nn.Dropout(dropout_rate)\n",
    "        self.layer_norm = nn.LayerNorm(3072)  # Normalization layer\n",
    "        self.classifier = nn.Linear(3072, output_dim)  # Classification layer\n",
    "\n",
    "    def mean_pooling(self, token_embeddings, attention_mask):\n",
    "        # Perform mean pooling on token embeddings, accounting for attention mask\n",
    "        input_mask_expanded = attention_mask.unsqueeze(-1).expand(token_embeddings.size()).float()\n",
    "        sum_embeddings = torch.sum(token_embeddings * input_mask_expanded, 1)\n",
    "        sum_mask = torch.clamp(input_mask_expanded.sum(1), min=1e-9)\n",
    "        return sum_embeddings / sum_mask\n",
    "\n",
    "    def forward(self, input_ids, token_type_ids=None, attention_mask=None):\n",
    "        # Forward pass through BERT encoder to get hidden states\n",
    "        outputs = self.encoder(input_ids, token_type_ids=token_type_ids, attention_mask=attention_mask)\n",
    "        \n",
    "        # Concatenate the last four hidden layers for enhanced contextual representation\n",
    "        hidden_states = torch.cat([outputs.hidden_states[i] for i in [-1, -2, -3, -4]], dim=-1)\n",
    "\n",
    "        # Apply layer normalization for stable training\n",
    "        hidden_states = self.layer_norm(hidden_states)\n",
    "\n",
    "        # Use mean pooling to aggregate token embeddings\n",
    "        pooled_output = self.mean_pooling(hidden_states, attention_mask)\n",
    "\n",
    "        # Pass through dropout and then classification layer\n",
    "        x = self.dropout(pooled_output)\n",
    "        x = self.classifier(x)\n",
    "        return x"
   ]
  },
  {
   "cell_type": "markdown",
   "metadata": {},
   "source": [
    "### Loss Function and Optimizer Setup"
   ]
  },
  {
   "cell_type": "code",
   "execution_count": 44,
   "metadata": {},
   "outputs": [
    {
     "name": "stderr",
     "output_type": "stream",
     "text": [
      "Some weights of BertForSequenceClassification were not initialized from the model checkpoint at bert-base-uncased and are newly initialized: ['classifier.bias', 'classifier.weight']\n",
      "You should probably TRAIN this model on a down-stream task to be able to use it for predictions and inference.\n"
     ]
    }
   ],
   "source": [
    "# Initialize the custom model with specified output dimensions and dropout rate\n",
    "model = Model(output_dim=2, dropout_rate=0.5)\n",
    "\n",
    "# Set device to GPU if available, otherwise CPU\n",
    "device = torch.device(\"cuda\" if torch.cuda.is_available() else \"cpu\")\n",
    "model.to(device)  # Move model to the appropriate device\n",
    "\n",
    "# Calculate class weights to address potential class imbalance\n",
    "labels = result_final['account_type'].values\n",
    "class_weights = compute_class_weight(class_weight='balanced', classes=np.unique(labels), y=labels)\n",
    "class_weights = torch.tensor(class_weights, dtype=torch.float).to(device)\n",
    "\n",
    "# Define custom Focal Loss class to handle class imbalance by emphasizing hard-to-classify samples\n",
    "class FocalLoss(nn.Module):\n",
    "    def __init__(self, alpha=1, gamma=2, class_weights=None):\n",
    "        super(FocalLoss, self).__init__()\n",
    "        self.alpha = alpha  # Scaling factor for loss\n",
    "        self.gamma = gamma  # Modulates the effect of easy vs. hard samples\n",
    "        self.class_weights = class_weights  # Optional weights for class imbalance\n",
    "\n",
    "    def forward(self, inputs, targets):\n",
    "        # Compute Cross-Entropy Loss, weighted by class weights\n",
    "        BCE_loss = F.cross_entropy(inputs, targets, weight=self.class_weights, reduction='none')\n",
    "        pt = torch.exp(-BCE_loss)  # Model's predicted probability for true class\n",
    "        F_loss = self.alpha * (1 - pt) ** self.gamma * BCE_loss  # Focal Loss formula\n",
    "        return torch.mean(F_loss)\n",
    "\n",
    "# Initialize the Focal Loss function with computed class weights\n",
    "loss_fct = FocalLoss(alpha=1, gamma=2, class_weights=class_weights)\n",
    "\n",
    "# Set up the optimizer with AdamW and a learning rate suitable for fine-tuning BERT\n",
    "optimizer = AdamW(model.parameters(), lr=1e-4)"
   ]
  },
  {
   "cell_type": "code",
   "execution_count": 45,
   "metadata": {},
   "outputs": [],
   "source": [
    "epochs = 5\n",
    "\n",
    "# Calculate the total number of training steps for the scheduler\n",
    "num_training_steps = epochs * len(train_dataloader)\n",
    "\n",
    "# Reinitialize the optimizer with a learning rate suitable for fine-tuning BERT\n",
    "optimizer = AdamW(model.parameters(), lr=2e-5)\n",
    "\n",
    "# Set up a linear learning rate scheduler with warmup\n",
    "# Warmup steps are set to 10% of the total training steps to gradually increase the learning rate at the start\n",
    "scheduler = get_linear_schedule_with_warmup(\n",
    "    optimizer, \n",
    "    num_warmup_steps=int(0.1 * num_training_steps), \n",
    "    num_training_steps=num_training_steps\n",
    ")"
   ]
  },
  {
   "cell_type": "markdown",
   "metadata": {},
   "source": [
    "### Training and Validation Loop"
   ]
  },
  {
   "cell_type": "code",
   "execution_count": 46,
   "metadata": {},
   "outputs": [
    {
     "data": {
      "application/vnd.jupyter.widget-view+json": {
       "model_id": "94434b16b1274ab5bc25ab9a73ed57a8",
       "version_major": 2,
       "version_minor": 0
      },
      "text/plain": [
       "  0%|          | 0/220 [00:00<?, ?it/s]"
      ]
     },
     "metadata": {},
     "output_type": "display_data"
    },
    {
     "name": "stdout",
     "output_type": "stream",
     "text": [
      "Epoch 1: Validation Loss: 0.2028, Accuracy: 0.6511, F1 Score: 0.6758\n",
      "Epoch 2: Validation Loss: 0.1899, Accuracy: 0.6181, F1 Score: 0.6460\n",
      "Epoch 3: Validation Loss: 0.1958, Accuracy: 0.5989, F1 Score: 0.6263\n",
      "Epoch 4: Validation Loss: 0.2453, Accuracy: 0.7115, F1 Score: 0.7254\n",
      "Epoch 5: Validation Loss: 0.2582, Accuracy: 0.7088, F1 Score: 0.7225\n"
     ]
    }
   ],
   "source": [
    "progress_bar = tqdm(range(num_training_steps))\n",
    "\n",
    "for epoch in range(epochs):\n",
    "    # Training Phase\n",
    "    model.train()  # Set model to training mode\n",
    "    for batch in train_dataloader:\n",
    "        batch = {k: v.to(device) for k, v in batch.items()}  # Move batch to the appropriate device\n",
    "        label_ids = batch['labels']\n",
    "        input_ids = batch['input_ids']\n",
    "        attention_mask = batch['attention_mask']\n",
    "\n",
    "        # Forward pass to compute logits\n",
    "        logits = model(input_ids, attention_mask=attention_mask)\n",
    "\n",
    "        # Calculate loss using Focal Loss for improved handling of class imbalance\n",
    "        loss = loss_fct(logits, label_ids)\n",
    "\n",
    "        # Backward pass for gradient calculation and optimization\n",
    "        loss.backward()\n",
    "\n",
    "        # Gradient clipping to prevent exploding gradients\n",
    "        torch.nn.utils.clip_grad_norm_(model.parameters(), max_norm=1.0)\n",
    "\n",
    "        # Update model parameters and learning rate schedule\n",
    "        optimizer.step()\n",
    "        scheduler.step()  # Adjust learning rate\n",
    "        optimizer.zero_grad()  # Reset gradients\n",
    "        progress_bar.update(1)  # Update progress bar\n",
    "\n",
    "    # Validation Phase (run after each epoch to evaluate model performance)\n",
    "    model.eval()  # Set model to evaluation mode\n",
    "    all_true_labels = []\n",
    "    all_predictions = []\n",
    "    total_val_loss = 0\n",
    "    num_batches = 0\n",
    "\n",
    "    # No gradient calculation needed in evaluation\n",
    "    with torch.no_grad():\n",
    "        for batch in val_dataloader:\n",
    "            batch = {k: v.to(device) for k, v in batch.items()}\n",
    "            label_ids = batch['labels']\n",
    "            input_ids = batch['input_ids']\n",
    "            attention_mask = batch['attention_mask']\n",
    "\n",
    "            # Forward pass to compute validation logits\n",
    "            logits = model(input_ids, attention_mask=attention_mask)\n",
    "\n",
    "            # Calculate validation loss\n",
    "            loss = loss_fct(logits, label_ids)\n",
    "            total_val_loss += loss.item()\n",
    "            num_batches += 1\n",
    "\n",
    "            # Collect predictions and true labels for metrics calculation\n",
    "            preds = torch.argmax(logits, dim=-1)\n",
    "            all_true_labels.extend(label_ids.cpu().numpy())\n",
    "            all_predictions.extend(preds.cpu().numpy())\n",
    "\n",
    "    # Calculate and display validation metrics for the epoch\n",
    "    avg_val_loss = total_val_loss / num_batches\n",
    "    accuracy = accuracy_score(all_true_labels, all_predictions)\n",
    "    f1 = f1_score(all_true_labels, all_predictions, average='weighted')\n",
    "    print(f\"Epoch {epoch + 1}: Validation Loss: {avg_val_loss:.4f}, Accuracy: {accuracy:.4f}, F1 Score: {f1:.4f}\")"
   ]
  },
  {
   "cell_type": "markdown",
   "metadata": {},
   "source": [
    "### Final Evaluation on Test Set"
   ]
  },
  {
   "cell_type": "code",
   "execution_count": 47,
   "metadata": {},
   "outputs": [
    {
     "name": "stdout",
     "output_type": "stream",
     "text": [
      "Final Test Set Classification Report:\n",
      "               precision    recall  f1-score   support\n",
      "\n",
      "     Not Bot       0.85      0.70      0.77       278\n",
      "         Bot       0.38      0.60      0.47        87\n",
      "\n",
      "    accuracy                           0.67       365\n",
      "   macro avg       0.61      0.65      0.62       365\n",
      "weighted avg       0.74      0.67      0.69       365\n",
      "\n",
      "Test Set Accuracy: 0.6740\n",
      "Test Set Recall: 0.5977\n",
      "Test Set Precision: 0.3824\n",
      "Test Set F1-Score: 0.4664\n"
     ]
    }
   ],
   "source": [
    "model.eval()\n",
    "all_true_labels = []\n",
    "all_predictions = []\n",
    "\n",
    "# Run inference on the test set without computing gradients\n",
    "with torch.no_grad():\n",
    "    for batch in test_dataloader:\n",
    "        batch = {k: v.to(device) for k, v in batch.items()}\n",
    "        logits = model(input_ids=batch['input_ids'], attention_mask=batch['attention_mask'])\n",
    "        preds = torch.argmax(logits, dim=-1)  # Get predicted class\n",
    "\n",
    "        # Collect true labels and predictions for final metric calculations\n",
    "        all_true_labels.extend(batch['labels'].cpu().numpy())\n",
    "        all_predictions.extend(preds.cpu().numpy())\n",
    "\n",
    "# Calculate and display evaluation metrics on the test set\n",
    "# Metrics include accuracy, recall, precision, F1-score, and a detailed classification report\n",
    "report = classification_report(all_true_labels, all_predictions, target_names=[\"Not Bot\", \"Bot\"])\n",
    "accuracy = accuracy_score(all_true_labels, all_predictions)\n",
    "recall = recall_score(all_true_labels, all_predictions)\n",
    "precision = precision_score(all_true_labels, all_predictions)\n",
    "f1 = f1_score(all_true_labels, all_predictions)\n",
    "\n",
    "print(\"Final Test Set Classification Report:\\n\", report)\n",
    "print(f\"Test Set Accuracy: {accuracy:.4f}\")\n",
    "print(f\"Test Set Recall: {recall:.4f}\")\n",
    "print(f\"Test Set Precision: {precision:.4f}\")\n",
    "print(f\"Test Set F1-Score: {f1:.4f}\")"
   ]
  },
  {
   "cell_type": "markdown",
   "metadata": {},
   "source": [
    "### Confusion Matrix Visualization"
   ]
  },
  {
   "cell_type": "code",
   "execution_count": null,
   "metadata": {},
   "outputs": [
    {
     "data": {
      "image/png": "[encoded data removed]",
      "text/plain": [
       "<Figure size 432x288 with 2 Axes>"
      ]
     },
     "metadata": {
      "needs_background": "light"
     },
     "output_type": "display_data"
    }
   ],
   "source": [
    "# Calculate the confusion matrix for the test set predictions\n",
    "cm = confusion_matrix(all_true_labels, all_predictions, labels=[0, 1])\n",
    "\n",
    "# Visualize the confusion matrix using a heatmap for clarity\n",
    "sns.heatmap(cm, annot=True, fmt='d', cmap='Blues', xticklabels=[\"Not Bot\", \"Bot\"], yticklabels=[\"Not Bot\", \"Bot\"])\n",
    "\n",
    "# Label the axes and add a title for the plot\n",
    "plt.xlabel('Predicted')\n",
    "plt.ylabel('True')\n",
    "plt.title('Confusion Matrix on Test Set')\n",
    "plt.show()\n"
   ]
  }
 ],
 "metadata": {
  "kernelspec": {
   "display_name": "Python 3",
   "language": "python",
   "name": "python3"
  },
  "language_info": {
   "codemirror_mode": {
    "name": "ipython",
    "version": 3
   },
   "file_extension": ".py",
   "mimetype": "text/x-python",
   "name": "python",
   "nbconvert_exporter": "python",
   "pygments_lexer": "ipython3",
   "version": "3.10.4"
  }
 },
 "nbformat": 4,
 "nbformat_minor": 2
}
