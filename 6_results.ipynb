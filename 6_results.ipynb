{
 "cells": [
  {
   "cell_type": "markdown",
   "metadata": {},
   "source": [
    "# Results"
   ]
  },
  {
   "cell_type": "code",
   "execution_count": 2,
   "metadata": {},
   "outputs": [],
   "source": [
    "import pandas as pd"
   ]
  },
  {
   "cell_type": "code",
   "execution_count": 3,
   "metadata": {},
   "outputs": [
    {
     "data": {
      "text/html": [
       "<div>\n",
       "<style scoped>\n",
       "    .dataframe tbody tr th:only-of-type {\n",
       "        vertical-align: middle;\n",
       "    }\n",
       "\n",
       "    .dataframe tbody tr th {\n",
       "        vertical-align: top;\n",
       "    }\n",
       "\n",
       "    .dataframe thead th {\n",
       "        text-align: right;\n",
       "    }\n",
       "</style>\n",
       "<table border=\"1\" class=\"dataframe\">\n",
       "  <thead>\n",
       "    <tr style=\"text-align: right;\">\n",
       "      <th></th>\n",
       "      <th>model</th>\n",
       "      <th>metrics</th>\n",
       "      <th>parameters</th>\n",
       "      <th>selected_features</th>\n",
       "    </tr>\n",
       "  </thead>\n",
       "  <tbody>\n",
       "    <tr>\n",
       "      <th>0</th>\n",
       "      <td>RandomForest</td>\n",
       "      <td>{'test_auc': np.float64(0.840350259164081), 'o...</td>\n",
       "      <td>{'n_estimators': 100, 'max_depth': 11, 'min_sa...</td>\n",
       "      <td>['default_profile', 'default_profile_image', '...</td>\n",
       "    </tr>\n",
       "    <tr>\n",
       "      <th>1</th>\n",
       "      <td>XGBoost</td>\n",
       "      <td>{'test_auc': np.float64(0.9421476720898174), '...</td>\n",
       "      <td>{'objective': 'binary:logistic', 'eval_metric'...</td>\n",
       "      <td>['default_profile', 'geo_enabled', 'deviation_...</td>\n",
       "    </tr>\n",
       "    <tr>\n",
       "      <th>2</th>\n",
       "      <td>LightGBM</td>\n",
       "      <td>{'test_auc': np.float64(0.9430717203787926), '...</td>\n",
       "      <td>{'objective': 'binary', 'metric': 'auc', 'boos...</td>\n",
       "      <td>['default_profile', 'default_profile_image', '...</td>\n",
       "    </tr>\n",
       "  </tbody>\n",
       "</table>\n",
       "</div>"
      ],
      "text/plain": [
       "          model                                            metrics  \\\n",
       "0  RandomForest  {'test_auc': np.float64(0.840350259164081), 'o...   \n",
       "1       XGBoost  {'test_auc': np.float64(0.9421476720898174), '...   \n",
       "2      LightGBM  {'test_auc': np.float64(0.9430717203787926), '...   \n",
       "\n",
       "                                          parameters  \\\n",
       "0  {'n_estimators': 100, 'max_depth': 11, 'min_sa...   \n",
       "1  {'objective': 'binary:logistic', 'eval_metric'...   \n",
       "2  {'objective': 'binary', 'metric': 'auc', 'boos...   \n",
       "\n",
       "                                   selected_features  \n",
       "0  ['default_profile', 'default_profile_image', '...  \n",
       "1  ['default_profile', 'geo_enabled', 'deviation_...  \n",
       "2  ['default_profile', 'default_profile_image', '...  "
      ]
     },
     "execution_count": 3,
     "metadata": {},
     "output_type": "execute_result"
    }
   ],
   "source": [
    "model_results = pd.read_csv('output_files/model_results.csv')\n",
    "nn_results = pd.read_csv('output_files/model_results_nn.csv')\n",
    "results_table = []\n",
    "model_results.head()"
   ]
  },
  {
   "cell_type": "code",
   "execution_count": 4,
   "metadata": {},
   "outputs": [
    {
     "name": "stdout",
     "output_type": "stream",
     "text": [
      "0    {'test_auc': np.float64(0.840350259164081), 'o...\n",
      "Name: metrics, dtype: object\n"
     ]
    }
   ],
   "source": [
    "print(model_results.loc[model_results[\"model\"]==\"RandomForest\"][\"metrics\"])"
   ]
  },
  {
   "cell_type": "code",
   "execution_count": 8,
   "metadata": {},
   "outputs": [
    {
     "name": "stdout",
     "output_type": "stream",
     "text": [
      "                                       Model Threshold  Precision  Recall  \\\n",
      "0           Log Regression with Log features      <NA>      0.820   0.820   \n",
      "1       Log Regression with non-Log features      <NA>      0.730   0.740   \n",
      "2                                       LGBM       0.5      0.843   0.775   \n",
      "3                                       LGBM       0.8      0.955   0.596   \n",
      "4                                       LGBM      0.85      0.964   0.534   \n",
      "5                                       LGBM       0.9      0.977   0.454   \n",
      "6                                       LGBM      0.95      0.994   0.330   \n",
      "7                              Random Forest       0.5      0.853   0.738   \n",
      "8                              Random Forest       0.8      0.853   0.738   \n",
      "9                              Random Forest      0.85      0.853   0.738   \n",
      "10                             Random Forest       0.9      0.853   0.738   \n",
      "11                             Random Forest      0.95      0.853   0.738   \n",
      "12                                   XGBoost       0.5      0.844   0.779   \n",
      "13                                   XGBoost       0.8      0.949   0.594   \n",
      "14                                   XGBoost      0.85      0.962   0.547   \n",
      "15                                   XGBoost       0.9      0.977   0.474   \n",
      "16                                   XGBoost      0.95      0.992   0.357   \n",
      "17                                        NN      <NA>      0.795   0.601   \n",
      "18  Sentiment Analysis of User's Description      <NA>      0.594   0.531   \n",
      "\n",
      "       F1    AUC  \n",
      "0   0.820   <NA>  \n",
      "1   0.720   <NA>  \n",
      "2   0.808  0.855  \n",
      "3   0.734  0.792  \n",
      "4   0.688  0.763  \n",
      "5   0.620  0.725  \n",
      "6   0.496  0.665  \n",
      "7   0.791   0.84  \n",
      "8   0.791   0.84  \n",
      "9   0.791   0.84  \n",
      "10  0.791   0.84  \n",
      "11  0.791   0.84  \n",
      "12  0.810  0.857  \n",
      "13  0.731   0.79  \n",
      "14  0.697  0.768  \n",
      "15  0.638  0.735  \n",
      "16  0.526  0.678  \n",
      "17  0.684   <NA>  \n",
      "18  0.560   <NA>  \n"
     ]
    }
   ],
   "source": [
    "# Model name, accuracy, precision, recall, f1, auc\n",
    "\n",
    "LR_log = {\"Model\": \"Log Regression with Log features\", \"Threshold\": pd.NA, \"Precision\": 0.82, \"Recall\": 0.82, \"F1\": 0.82 , \"AUC\": pd.NA}\n",
    "LR_nonlog = {\"Model\": \"Log Regression with non-Log features\", \"Threshold\": pd.NA, \"Precision\": 0.73, \"Recall\": 0.74, \"F1\": 0.72 , \"AUC\": pd.NA}\n",
    "\n",
    "RF_050 = {\"Model\": \"Random Forest\", \"Threshold\": 0.5, \"Precision\": 0.853, \"Recall\": 0.738, \"F1\": 0.791 , \"AUC\": 0.840}\n",
    "RF_080 = {\"Model\": \"Random Forest\", \"Threshold\": 0.8, \"Precision\": 0.853, \"Recall\": 0.738, \"F1\": 0.791 , \"AUC\": 0.840}\n",
    "RF_085 = {\"Model\": \"Random Forest\", \"Threshold\": 0.85, \"Precision\": 0.853, \"Recall\": 0.738, \"F1\": 0.791 , \"AUC\": 0.840}\n",
    "RF_090 = {\"Model\": \"Random Forest\", \"Threshold\": 0.9, \"Precision\": 0.853, \"Recall\": 0.738, \"F1\": 0.791 , \"AUC\": 0.840}\n",
    "RF_095 = {\"Model\": \"Random Forest\", \"Threshold\": 0.95, \"Precision\": 0.853, \"Recall\": 0.738, \"F1\": 0.791 , \"AUC\": 0.840}\n",
    "\n",
    "XG_050 = {\"Model\": \"XGBoost\", \"Threshold\": 0.5, \"Precision\": 0.844, \"Recall\": 0.779, \"F1\": 0.810 , \"AUC\": 0.857}\n",
    "XG_080 = {\"Model\": \"XGBoost\", \"Threshold\": 0.8, \"Precision\": 0.949, \"Recall\": 0.594, \"F1\": 0.731 , \"AUC\": 0.790}\n",
    "XG_085 = {\"Model\": \"XGBoost\", \"Threshold\": 0.85, \"Precision\": 0.962, \"Recall\": 0.547, \"F1\": 0.697 , \"AUC\": 0.768}\n",
    "XG_090 = {\"Model\": \"XGBoost\", \"Threshold\": 0.9, \"Precision\": 0.977, \"Recall\": 0.474, \"F1\": 0.638 , \"AUC\": 0.735}\n",
    "XG_095 = {\"Model\": \"XGBoost\", \"Threshold\": 0.95, \"Precision\": 0.992, \"Recall\": 0.357, \"F1\": 0.526 , \"AUC\": 0.678}\n",
    "\n",
    "LG_050 = {\"Model\": \"LGBM\", \"Threshold\": 0.5, \"Precision\": 0.843, \"Recall\": 0.775, \"F1\": 0.808 , \"AUC\": 0.855}\n",
    "LG_080 = {\"Model\": \"LGBM\", \"Threshold\": 0.8, \"Precision\": 0.955, \"Recall\": 0.596, \"F1\": 0.734 , \"AUC\": 0.792}\n",
    "LG_085 = {\"Model\": \"LGBM\", \"Threshold\": 0.85, \"Precision\": 0.964, \"Recall\": 0.534, \"F1\": 0.688 , \"AUC\": 0.763}\n",
    "LG_090 = {\"Model\": \"LGBM\", \"Threshold\": 0.9, \"Precision\": 0.977, \"Recall\": 0.454, \"F1\": 0.620 , \"AUC\": 0.725}\n",
    "LG_095 = {\"Model\": \"LGBM\", \"Threshold\": 0.95, \"Precision\": 0.994, \"Recall\": 0.330, \"F1\": 0.496 , \"AUC\": 0.665} \n",
    "\n",
    "nn = {\"Model\": \"NN\", \"Threshold\": pd.NA, \"Precision\": 0.795, \"Recall\": 0.601, \"F1\": 0.684 , \"AUC\": pd.NA}\n",
    "\n",
    "AS = {\"Model\": \"Sentiment Analysis of User's Description\", \"Threshold\": pd.NA, \"Precision\": 0.594, \"Recall\": 0.531, \"F1\": 0.560 , \"AUC\": pd.NA}\n",
    "\n",
    "data = [LR_log, LR_nonlog, LG_050, LG_080, LG_085, LG_090, LG_095, RF_050, RF_080, RF_085, RF_090, RF_095, XG_050, XG_080, XG_085, XG_090, XG_095, nn, AS]\n",
    "df = pd.DataFrame(data)\n",
    "\n",
    "print(df)"
   ]
  }
 ],
 "metadata": {
  "kernelspec": {
   "display_name": "Python 3",
   "language": "python",
   "name": "python3"
  },
  "language_info": {
   "codemirror_mode": {
    "name": "ipython",
    "version": 3
   },
   "file_extension": ".py",
   "mimetype": "text/x-python",
   "name": "python",
   "nbconvert_exporter": "python",
   "pygments_lexer": "ipython3",
   "version": "3.10.4"
  }
 },
 "nbformat": 4,
 "nbformat_minor": 2
}
