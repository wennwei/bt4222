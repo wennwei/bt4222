{
 "cells": [
  {
   "cell_type": "markdown",
   "metadata": {},
   "source": [
    "# Read Data"
   ]
  },
  {
   "cell_type": "code",
   "execution_count": 1,
   "metadata": {},
   "outputs": [
    {
     "name": "stderr",
     "output_type": "stream",
     "text": [
      "/Users/eldricksim/Documents/GitHub/bt4222/.venv/lib/python3.9/site-packages/urllib3/__init__.py:35: NotOpenSSLWarning: urllib3 v2 only supports OpenSSL 1.1.1+, currently the 'ssl' module is compiled with 'LibreSSL 2.8.3'. See: https://github.com/urllib3/urllib3/issues/3020\n",
      "  warnings.warn(\n",
      "/Users/eldricksim/Documents/GitHub/bt4222/.venv/lib/python3.9/site-packages/tqdm/auto.py:21: TqdmWarning: IProgress not found. Please update jupyter and ipywidgets. See https://ipywidgets.readthedocs.io/en/stable/user_install.html\n",
      "  from .autonotebook import tqdm as notebook_tqdm\n"
     ]
    }
   ],
   "source": [
    "# Import Libraries and Data\n",
    "from transformers import pipeline\n",
    "import pandas as pd\n",
    "import warnings \n",
    "\n",
    "warnings.simplefilter(action='ignore', category=FutureWarning)\n",
    "\n",
    "df = pd.read_csv(\"source data/twitter_human_bots_dataset.csv\", index_col=0)\n",
    "df.head()\n",
    "df_sentiment = df[['screen_name', 'description', 'account_type']]"
   ]
  },
  {
   "cell_type": "markdown",
   "metadata": {},
   "source": [
    "## Sentiment Analysis for `description` feature"
   ]
  },
  {
   "cell_type": "code",
   "execution_count": 4,
   "metadata": {},
   "outputs": [
    {
     "name": "stderr",
     "output_type": "stream",
     "text": [
      "No model was supplied, defaulted to distilbert/distilbert-base-uncased-finetuned-sst-2-english and revision 714eb0f (https://huggingface.co/distilbert/distilbert-base-uncased-finetuned-sst-2-english).\n",
      "Using a pipeline without specifying a model name and revision in production is not recommended.\n"
     ]
    },
    {
     "name": "stdout",
     "output_type": "stream",
     "text": [
      "37438\n",
      "count    37438.000000\n",
      "mean        54.568273\n",
      "std         48.785776\n",
      "min          0.000000\n",
      "25%          7.000000\n",
      "50%         43.000000\n",
      "75%         96.000000\n",
      "max        173.000000\n",
      "Name: description, dtype: float64\n",
      "0        blame  inspired by  using cmu phonetic data to...\n",
      "1        photographing the american west since 1980 i s...\n",
      "2        scruffy looking nerf herder and  broadcaster\\r...\n",
      "3        wifegodmotherfriendfeline fanatic assistant pr...\n",
      "4                              loan coach at   aspiring dj\n",
      "                               ...                        \n",
      "37433    role stock taker past roles nanny sales assist...\n",
      "37434                       kingdom landlord freecornbread\n",
      "37435        bienvenid al twitter oficial de sergio dalma \n",
      "37436    just a good guy wrapped up in a bad system\\r\\n...\n",
      "37437                                                     \n",
      "Name: description, Length: 37438, dtype: object\n"
     ]
    },
    {
     "name": "stderr",
     "output_type": "stream",
     "text": [
      "huggingface/tokenizers: The current process just got forked, after parallelism has already been used. Disabling parallelism to avoid deadlocks...\n",
      "To disable this warning, you can either:\n",
      "\t- Avoid using `tokenizers` before the fork if possible\n",
      "\t- Explicitly set the environment variable TOKENIZERS_PARALLELISM=(true | false)\n",
      "Hardware accelerator e.g. GPU is available in the environment, but no `device` argument is passed to the `Pipeline` object. Model will be on CPU.\n"
     ]
    },
    {
     "name": "stdout",
     "output_type": "stream",
     "text": [
      "      label     score\n",
      "0  NEGATIVE  0.999629\n",
      "1  POSITIVE  0.992683\n",
      "2  NEGATIVE  0.998187\n",
      "3  NEGATIVE  0.570852\n",
      "4  NEGATIVE  0.720050\n"
     ]
    }
   ],
   "source": [
    "# Preprocess the description column\n",
    "description = df_sentiment['description'].fillna('').str.lower()\n",
    "description = description.str.replace(r'@\\w+', '', regex=True)\n",
    "description = description.str.replace(r'http\\S+', '', regex=True)\n",
    "description = description.str.replace('#', '', regex=True)\n",
    "description = description.str.replace(r'[^a-zA-Z0-9\\s]', '', regex=True)\n",
    "\n",
    "# Get description statistics\n",
    "print(len(description))\n",
    "description_lengths = description.apply(len)\n",
    "print(description_lengths.describe())\n",
    "print(description)\n",
    "\n",
    "# Initialise model\n",
    "model_name = 'bert-base-uncased'\n",
    "sentiment_model = pipeline('sentiment-analysis')\n",
    "\n",
    "# Get sentiment of the description\n",
    "sentiments = description.apply(lambda text: sentiment_model(text)[0])\n",
    "\n",
    "df1 = pd.DataFrame(sentiments.tolist())\n",
    "print(df1.head())\n",
    "# Takes 25 minutes to run\n"
   ]
  },
  {
   "cell_type": "markdown",
   "metadata": {},
   "source": [
    "### Store into original dataframe"
   ]
  },
  {
   "cell_type": "code",
   "execution_count": 8,
   "metadata": {},
   "outputs": [
    {
     "name": "stderr",
     "output_type": "stream",
     "text": [
      "/var/folders/2q/ph9fxp4s3lz122mj_36rf7vm0000gp/T/ipykernel_86756/2594276789.py:2: SettingWithCopyWarning: \n",
      "A value is trying to be set on a copy of a slice from a DataFrame.\n",
      "Try using .loc[row_indexer,col_indexer] = value instead\n",
      "\n",
      "See the caveats in the documentation: https://pandas.pydata.org/pandas-docs/stable/user_guide/indexing.html#returning-a-view-versus-a-copy\n",
      "  df_sentiment['sentiment_label'] = df1['label'].map({'NEGATIVE': 0, 'POSITIVE': 1})\n"
     ]
    },
    {
     "data": {
      "text/plain": [
       "account_type  sentiment_label\n",
       "bot           1                   9294\n",
       "              0                   3131\n",
       "human         1                  14152\n",
       "              0                  10861\n",
       "Name: count, dtype: int64"
      ]
     },
     "execution_count": 8,
     "metadata": {},
     "output_type": "execute_result"
    }
   ],
   "source": [
    "# Add sentiment label to original df\n",
    "df_sentiment['sentiment_label'] = df1['label'].map({'NEGATIVE': 0, 'POSITIVE': 1})\n",
    "\n",
    "df_sentiment.groupby('account_type')['sentiment_label'].value_counts()"
   ]
  },
  {
   "cell_type": "markdown",
   "metadata": {},
   "source": [
    "### Save into external csv file"
   ]
  },
  {
   "cell_type": "code",
   "execution_count": 9,
   "metadata": {},
   "outputs": [],
   "source": [
    "# Select relevant columns\n",
    "df_sentiment = df_sentiment[['screen_name', 'sentiment_label']]\n",
    "\n",
    "df_sentiment.to_csv('cleaned data/df_sentiment.csv', index=False)"
   ]
  }
 ],
 "metadata": {
  "kernelspec": {
   "display_name": ".venv",
   "language": "python",
   "name": "python3"
  },
  "language_info": {
   "codemirror_mode": {
    "name": "ipython",
    "version": 3
   },
   "file_extension": ".py",
   "mimetype": "text/x-python",
   "name": "python",
   "nbconvert_exporter": "python",
   "pygments_lexer": "ipython3",
   "version": "3.9.6"
  }
 },
 "nbformat": 4,
 "nbformat_minor": 2
}
